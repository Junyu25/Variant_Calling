{
 "cells": [
  {
   "cell_type": "code",
   "execution_count": 1,
   "id": "satisfied-genius",
   "metadata": {},
   "outputs": [],
   "source": [
    "import pandas as pd"
   ]
  },
  {
   "cell_type": "code",
   "execution_count": 2,
   "id": "animated-saying",
   "metadata": {},
   "outputs": [],
   "source": [
    "blast_out = \"/mnt/d/Lab/VC_SiLab/result/A5_S5_blast.tsv\""
   ]
  },
  {
   "cell_type": "code",
   "execution_count": 3,
   "id": "silent-samba",
   "metadata": {},
   "outputs": [],
   "source": [
    "df = pd.read_table(blast_out)"
   ]
  },
  {
   "cell_type": "code",
   "execution_count": 4,
   "id": "advised-hospital",
   "metadata": {},
   "outputs": [],
   "source": [
    "df.columns = [\"qseqid\", \"sseqid\", \"pident\", \"length\", \"mismatch\", \"gapopen\", \"qstart\", \"qend\", \"sstart\", \"send\", \"evalue\", \"bitscore\"]"
   ]
  },
  {
   "cell_type": "code",
   "execution_count": 5,
   "id": "emotional-foundation",
   "metadata": {},
   "outputs": [
    {
     "data": {
      "text/html": [
       "<div>\n",
       "<style scoped>\n",
       "    .dataframe tbody tr th:only-of-type {\n",
       "        vertical-align: middle;\n",
       "    }\n",
       "\n",
       "    .dataframe tbody tr th {\n",
       "        vertical-align: top;\n",
       "    }\n",
       "\n",
       "    .dataframe thead th {\n",
       "        text-align: right;\n",
       "    }\n",
       "</style>\n",
       "<table border=\"1\" class=\"dataframe\">\n",
       "  <thead>\n",
       "    <tr style=\"text-align: right;\">\n",
       "      <th></th>\n",
       "      <th>qseqid</th>\n",
       "      <th>sseqid</th>\n",
       "      <th>pident</th>\n",
       "      <th>length</th>\n",
       "      <th>mismatch</th>\n",
       "      <th>gapopen</th>\n",
       "      <th>qstart</th>\n",
       "      <th>qend</th>\n",
       "      <th>sstart</th>\n",
       "      <th>send</th>\n",
       "      <th>evalue</th>\n",
       "      <th>bitscore</th>\n",
       "    </tr>\n",
       "  </thead>\n",
       "  <tbody>\n",
       "    <tr>\n",
       "      <th>0</th>\n",
       "      <td>M06589:36:000000000-JH5C4:1:1101:19437:9899</td>\n",
       "      <td>168_CAG_Q_502:504_AGG_R</td>\n",
       "      <td>100.000</td>\n",
       "      <td>340</td>\n",
       "      <td>0</td>\n",
       "      <td>0</td>\n",
       "      <td>1</td>\n",
       "      <td>340</td>\n",
       "      <td>281</td>\n",
       "      <td>620</td>\n",
       "      <td>1.190000e-180</td>\n",
       "      <td>628.0</td>\n",
       "    </tr>\n",
       "    <tr>\n",
       "      <th>1</th>\n",
       "      <td>M06589:36:000000000-JH5C4:1:1101:3938:9903</td>\n",
       "      <td>81_GAC_D_241:243_GTG_V</td>\n",
       "      <td>100.000</td>\n",
       "      <td>318</td>\n",
       "      <td>0</td>\n",
       "      <td>0</td>\n",
       "      <td>18</td>\n",
       "      <td>335</td>\n",
       "      <td>1</td>\n",
       "      <td>318</td>\n",
       "      <td>1.980000e-168</td>\n",
       "      <td>588.0</td>\n",
       "    </tr>\n",
       "    <tr>\n",
       "      <th>2</th>\n",
       "      <td>M06589:36:000000000-JH5C4:1:1101:3936:9922</td>\n",
       "      <td>52_GAA_E_154:156_GCT_A</td>\n",
       "      <td>100.000</td>\n",
       "      <td>318</td>\n",
       "      <td>0</td>\n",
       "      <td>0</td>\n",
       "      <td>18</td>\n",
       "      <td>335</td>\n",
       "      <td>1</td>\n",
       "      <td>318</td>\n",
       "      <td>1.980000e-168</td>\n",
       "      <td>588.0</td>\n",
       "    </tr>\n",
       "    <tr>\n",
       "      <th>3</th>\n",
       "      <td>M06589:36:000000000-JH5C4:1:1101:28953:9931</td>\n",
       "      <td>63_TTC_F_187:189_GGG_G</td>\n",
       "      <td>99.371</td>\n",
       "      <td>318</td>\n",
       "      <td>2</td>\n",
       "      <td>0</td>\n",
       "      <td>18</td>\n",
       "      <td>335</td>\n",
       "      <td>1</td>\n",
       "      <td>318</td>\n",
       "      <td>4.290000e-165</td>\n",
       "      <td>577.0</td>\n",
       "    </tr>\n",
       "    <tr>\n",
       "      <th>4</th>\n",
       "      <td>M06589:36:000000000-JH5C4:1:1101:6111:9934</td>\n",
       "      <td>296_TGA_*_886:888_TTT_F</td>\n",
       "      <td>100.000</td>\n",
       "      <td>318</td>\n",
       "      <td>0</td>\n",
       "      <td>0</td>\n",
       "      <td>18</td>\n",
       "      <td>335</td>\n",
       "      <td>1</td>\n",
       "      <td>318</td>\n",
       "      <td>1.980000e-168</td>\n",
       "      <td>588.0</td>\n",
       "    </tr>\n",
       "    <tr>\n",
       "      <th>...</th>\n",
       "      <td>...</td>\n",
       "      <td>...</td>\n",
       "      <td>...</td>\n",
       "      <td>...</td>\n",
       "      <td>...</td>\n",
       "      <td>...</td>\n",
       "      <td>...</td>\n",
       "      <td>...</td>\n",
       "      <td>...</td>\n",
       "      <td>...</td>\n",
       "      <td>...</td>\n",
       "      <td>...</td>\n",
       "    </tr>\n",
       "    <tr>\n",
       "      <th>118422</th>\n",
       "      <td>M06589:36:000000000-JH5C4:1:2119:9147:24162</td>\n",
       "      <td>262_GTA_V_784:786_CGT_R</td>\n",
       "      <td>100.000</td>\n",
       "      <td>306</td>\n",
       "      <td>0</td>\n",
       "      <td>0</td>\n",
       "      <td>1</td>\n",
       "      <td>306</td>\n",
       "      <td>583</td>\n",
       "      <td>888</td>\n",
       "      <td>8.990000e-162</td>\n",
       "      <td>566.0</td>\n",
       "    </tr>\n",
       "    <tr>\n",
       "      <th>118423</th>\n",
       "      <td>M06589:36:000000000-JH5C4:1:2119:9088:24200</td>\n",
       "      <td>123_GTG_V_367:369_CGT_R</td>\n",
       "      <td>99.120</td>\n",
       "      <td>341</td>\n",
       "      <td>2</td>\n",
       "      <td>1</td>\n",
       "      <td>1</td>\n",
       "      <td>341</td>\n",
       "      <td>281</td>\n",
       "      <td>620</td>\n",
       "      <td>1.200000e-175</td>\n",
       "      <td>612.0</td>\n",
       "    </tr>\n",
       "    <tr>\n",
       "      <th>118424</th>\n",
       "      <td>M06589:36:000000000-JH5C4:1:2119:8911:24210</td>\n",
       "      <td>296_TGA_*_886:888_TTT_F</td>\n",
       "      <td>99.686</td>\n",
       "      <td>318</td>\n",
       "      <td>1</td>\n",
       "      <td>0</td>\n",
       "      <td>18</td>\n",
       "      <td>335</td>\n",
       "      <td>1</td>\n",
       "      <td>318</td>\n",
       "      <td>9.220000e-167</td>\n",
       "      <td>582.0</td>\n",
       "    </tr>\n",
       "    <tr>\n",
       "      <th>118425</th>\n",
       "      <td>M06589:36:000000000-JH5C4:1:2119:10091:24220</td>\n",
       "      <td>71_AAC_N_211:213_AAG_K</td>\n",
       "      <td>99.686</td>\n",
       "      <td>318</td>\n",
       "      <td>1</td>\n",
       "      <td>0</td>\n",
       "      <td>18</td>\n",
       "      <td>335</td>\n",
       "      <td>1</td>\n",
       "      <td>318</td>\n",
       "      <td>9.220000e-167</td>\n",
       "      <td>582.0</td>\n",
       "    </tr>\n",
       "    <tr>\n",
       "      <th>118426</th>\n",
       "      <td>M06589:36:000000000-JH5C4:1:2119:8516:24249</td>\n",
       "      <td>106_ATC_I_316:318_TCT_S</td>\n",
       "      <td>100.000</td>\n",
       "      <td>340</td>\n",
       "      <td>0</td>\n",
       "      <td>0</td>\n",
       "      <td>1</td>\n",
       "      <td>340</td>\n",
       "      <td>281</td>\n",
       "      <td>620</td>\n",
       "      <td>1.190000e-180</td>\n",
       "      <td>628.0</td>\n",
       "    </tr>\n",
       "  </tbody>\n",
       "</table>\n",
       "<p>118427 rows × 12 columns</p>\n",
       "</div>"
      ],
      "text/plain": [
       "                                              qseqid                   sseqid  \\\n",
       "0        M06589:36:000000000-JH5C4:1:1101:19437:9899  168_CAG_Q_502:504_AGG_R   \n",
       "1         M06589:36:000000000-JH5C4:1:1101:3938:9903   81_GAC_D_241:243_GTG_V   \n",
       "2         M06589:36:000000000-JH5C4:1:1101:3936:9922   52_GAA_E_154:156_GCT_A   \n",
       "3        M06589:36:000000000-JH5C4:1:1101:28953:9931   63_TTC_F_187:189_GGG_G   \n",
       "4         M06589:36:000000000-JH5C4:1:1101:6111:9934  296_TGA_*_886:888_TTT_F   \n",
       "...                                              ...                      ...   \n",
       "118422   M06589:36:000000000-JH5C4:1:2119:9147:24162  262_GTA_V_784:786_CGT_R   \n",
       "118423   M06589:36:000000000-JH5C4:1:2119:9088:24200  123_GTG_V_367:369_CGT_R   \n",
       "118424   M06589:36:000000000-JH5C4:1:2119:8911:24210  296_TGA_*_886:888_TTT_F   \n",
       "118425  M06589:36:000000000-JH5C4:1:2119:10091:24220   71_AAC_N_211:213_AAG_K   \n",
       "118426   M06589:36:000000000-JH5C4:1:2119:8516:24249  106_ATC_I_316:318_TCT_S   \n",
       "\n",
       "         pident  length  mismatch  gapopen  qstart  qend  sstart  send  \\\n",
       "0       100.000     340         0        0       1   340     281   620   \n",
       "1       100.000     318         0        0      18   335       1   318   \n",
       "2       100.000     318         0        0      18   335       1   318   \n",
       "3        99.371     318         2        0      18   335       1   318   \n",
       "4       100.000     318         0        0      18   335       1   318   \n",
       "...         ...     ...       ...      ...     ...   ...     ...   ...   \n",
       "118422  100.000     306         0        0       1   306     583   888   \n",
       "118423   99.120     341         2        1       1   341     281   620   \n",
       "118424   99.686     318         1        0      18   335       1   318   \n",
       "118425   99.686     318         1        0      18   335       1   318   \n",
       "118426  100.000     340         0        0       1   340     281   620   \n",
       "\n",
       "               evalue  bitscore  \n",
       "0       1.190000e-180     628.0  \n",
       "1       1.980000e-168     588.0  \n",
       "2       1.980000e-168     588.0  \n",
       "3       4.290000e-165     577.0  \n",
       "4       1.980000e-168     588.0  \n",
       "...               ...       ...  \n",
       "118422  8.990000e-162     566.0  \n",
       "118423  1.200000e-175     612.0  \n",
       "118424  9.220000e-167     582.0  \n",
       "118425  9.220000e-167     582.0  \n",
       "118426  1.190000e-180     628.0  \n",
       "\n",
       "[118427 rows x 12 columns]"
      ]
     },
     "execution_count": 5,
     "metadata": {},
     "output_type": "execute_result"
    }
   ],
   "source": [
    "df"
   ]
  },
  {
   "cell_type": "code",
   "execution_count": 6,
   "id": "dress-arrival",
   "metadata": {},
   "outputs": [],
   "source": [
    "df1 = df.loc[df[\"pident\"] == 100]"
   ]
  },
  {
   "cell_type": "code",
   "execution_count": 7,
   "id": "boring-belgium",
   "metadata": {},
   "outputs": [
    {
     "data": {
      "text/html": [
       "<div>\n",
       "<style scoped>\n",
       "    .dataframe tbody tr th:only-of-type {\n",
       "        vertical-align: middle;\n",
       "    }\n",
       "\n",
       "    .dataframe tbody tr th {\n",
       "        vertical-align: top;\n",
       "    }\n",
       "\n",
       "    .dataframe thead th {\n",
       "        text-align: right;\n",
       "    }\n",
       "</style>\n",
       "<table border=\"1\" class=\"dataframe\">\n",
       "  <thead>\n",
       "    <tr style=\"text-align: right;\">\n",
       "      <th></th>\n",
       "      <th>qseqid</th>\n",
       "      <th>sseqid</th>\n",
       "      <th>pident</th>\n",
       "      <th>length</th>\n",
       "      <th>mismatch</th>\n",
       "      <th>gapopen</th>\n",
       "      <th>qstart</th>\n",
       "      <th>qend</th>\n",
       "      <th>sstart</th>\n",
       "      <th>send</th>\n",
       "      <th>evalue</th>\n",
       "      <th>bitscore</th>\n",
       "    </tr>\n",
       "  </thead>\n",
       "  <tbody>\n",
       "    <tr>\n",
       "      <th>0</th>\n",
       "      <td>M06589:36:000000000-JH5C4:1:1101:19437:9899</td>\n",
       "      <td>168_CAG_Q_502:504_AGG_R</td>\n",
       "      <td>100.0</td>\n",
       "      <td>340</td>\n",
       "      <td>0</td>\n",
       "      <td>0</td>\n",
       "      <td>1</td>\n",
       "      <td>340</td>\n",
       "      <td>281</td>\n",
       "      <td>620</td>\n",
       "      <td>1.190000e-180</td>\n",
       "      <td>628.0</td>\n",
       "    </tr>\n",
       "    <tr>\n",
       "      <th>1</th>\n",
       "      <td>M06589:36:000000000-JH5C4:1:1101:3938:9903</td>\n",
       "      <td>81_GAC_D_241:243_GTG_V</td>\n",
       "      <td>100.0</td>\n",
       "      <td>318</td>\n",
       "      <td>0</td>\n",
       "      <td>0</td>\n",
       "      <td>18</td>\n",
       "      <td>335</td>\n",
       "      <td>1</td>\n",
       "      <td>318</td>\n",
       "      <td>1.980000e-168</td>\n",
       "      <td>588.0</td>\n",
       "    </tr>\n",
       "    <tr>\n",
       "      <th>2</th>\n",
       "      <td>M06589:36:000000000-JH5C4:1:1101:3936:9922</td>\n",
       "      <td>52_GAA_E_154:156_GCT_A</td>\n",
       "      <td>100.0</td>\n",
       "      <td>318</td>\n",
       "      <td>0</td>\n",
       "      <td>0</td>\n",
       "      <td>18</td>\n",
       "      <td>335</td>\n",
       "      <td>1</td>\n",
       "      <td>318</td>\n",
       "      <td>1.980000e-168</td>\n",
       "      <td>588.0</td>\n",
       "    </tr>\n",
       "    <tr>\n",
       "      <th>4</th>\n",
       "      <td>M06589:36:000000000-JH5C4:1:1101:6111:9934</td>\n",
       "      <td>296_TGA_*_886:888_TTT_F</td>\n",
       "      <td>100.0</td>\n",
       "      <td>318</td>\n",
       "      <td>0</td>\n",
       "      <td>0</td>\n",
       "      <td>18</td>\n",
       "      <td>335</td>\n",
       "      <td>1</td>\n",
       "      <td>318</td>\n",
       "      <td>1.980000e-168</td>\n",
       "      <td>588.0</td>\n",
       "    </tr>\n",
       "    <tr>\n",
       "      <th>5</th>\n",
       "      <td>M06589:36:000000000-JH5C4:1:1101:27839:9942</td>\n",
       "      <td>55_AAC_N_163:165_TCT_S</td>\n",
       "      <td>100.0</td>\n",
       "      <td>318</td>\n",
       "      <td>0</td>\n",
       "      <td>0</td>\n",
       "      <td>18</td>\n",
       "      <td>335</td>\n",
       "      <td>1</td>\n",
       "      <td>318</td>\n",
       "      <td>1.980000e-168</td>\n",
       "      <td>588.0</td>\n",
       "    </tr>\n",
       "    <tr>\n",
       "      <th>...</th>\n",
       "      <td>...</td>\n",
       "      <td>...</td>\n",
       "      <td>...</td>\n",
       "      <td>...</td>\n",
       "      <td>...</td>\n",
       "      <td>...</td>\n",
       "      <td>...</td>\n",
       "      <td>...</td>\n",
       "      <td>...</td>\n",
       "      <td>...</td>\n",
       "      <td>...</td>\n",
       "      <td>...</td>\n",
       "    </tr>\n",
       "    <tr>\n",
       "      <th>118415</th>\n",
       "      <td>M06589:36:000000000-JH5C4:1:2119:20653:24100</td>\n",
       "      <td>226_ACC_T_676:678_CGG_R</td>\n",
       "      <td>100.0</td>\n",
       "      <td>306</td>\n",
       "      <td>0</td>\n",
       "      <td>0</td>\n",
       "      <td>1</td>\n",
       "      <td>306</td>\n",
       "      <td>583</td>\n",
       "      <td>888</td>\n",
       "      <td>8.990000e-162</td>\n",
       "      <td>566.0</td>\n",
       "    </tr>\n",
       "    <tr>\n",
       "      <th>118417</th>\n",
       "      <td>M06589:36:000000000-JH5C4:1:2119:23674:24112</td>\n",
       "      <td>159_AAC_N_475:477_CGT_R</td>\n",
       "      <td>100.0</td>\n",
       "      <td>340</td>\n",
       "      <td>0</td>\n",
       "      <td>0</td>\n",
       "      <td>1</td>\n",
       "      <td>340</td>\n",
       "      <td>281</td>\n",
       "      <td>620</td>\n",
       "      <td>1.190000e-180</td>\n",
       "      <td>628.0</td>\n",
       "    </tr>\n",
       "    <tr>\n",
       "      <th>118419</th>\n",
       "      <td>M06589:36:000000000-JH5C4:1:2119:16018:24138</td>\n",
       "      <td>107_TCC_S_319:321_TAT_Y</td>\n",
       "      <td>100.0</td>\n",
       "      <td>340</td>\n",
       "      <td>0</td>\n",
       "      <td>0</td>\n",
       "      <td>1</td>\n",
       "      <td>340</td>\n",
       "      <td>281</td>\n",
       "      <td>620</td>\n",
       "      <td>1.190000e-180</td>\n",
       "      <td>628.0</td>\n",
       "    </tr>\n",
       "    <tr>\n",
       "      <th>118422</th>\n",
       "      <td>M06589:36:000000000-JH5C4:1:2119:9147:24162</td>\n",
       "      <td>262_GTA_V_784:786_CGT_R</td>\n",
       "      <td>100.0</td>\n",
       "      <td>306</td>\n",
       "      <td>0</td>\n",
       "      <td>0</td>\n",
       "      <td>1</td>\n",
       "      <td>306</td>\n",
       "      <td>583</td>\n",
       "      <td>888</td>\n",
       "      <td>8.990000e-162</td>\n",
       "      <td>566.0</td>\n",
       "    </tr>\n",
       "    <tr>\n",
       "      <th>118426</th>\n",
       "      <td>M06589:36:000000000-JH5C4:1:2119:8516:24249</td>\n",
       "      <td>106_ATC_I_316:318_TCT_S</td>\n",
       "      <td>100.0</td>\n",
       "      <td>340</td>\n",
       "      <td>0</td>\n",
       "      <td>0</td>\n",
       "      <td>1</td>\n",
       "      <td>340</td>\n",
       "      <td>281</td>\n",
       "      <td>620</td>\n",
       "      <td>1.190000e-180</td>\n",
       "      <td>628.0</td>\n",
       "    </tr>\n",
       "  </tbody>\n",
       "</table>\n",
       "<p>85880 rows × 12 columns</p>\n",
       "</div>"
      ],
      "text/plain": [
       "                                              qseqid                   sseqid  \\\n",
       "0        M06589:36:000000000-JH5C4:1:1101:19437:9899  168_CAG_Q_502:504_AGG_R   \n",
       "1         M06589:36:000000000-JH5C4:1:1101:3938:9903   81_GAC_D_241:243_GTG_V   \n",
       "2         M06589:36:000000000-JH5C4:1:1101:3936:9922   52_GAA_E_154:156_GCT_A   \n",
       "4         M06589:36:000000000-JH5C4:1:1101:6111:9934  296_TGA_*_886:888_TTT_F   \n",
       "5        M06589:36:000000000-JH5C4:1:1101:27839:9942   55_AAC_N_163:165_TCT_S   \n",
       "...                                              ...                      ...   \n",
       "118415  M06589:36:000000000-JH5C4:1:2119:20653:24100  226_ACC_T_676:678_CGG_R   \n",
       "118417  M06589:36:000000000-JH5C4:1:2119:23674:24112  159_AAC_N_475:477_CGT_R   \n",
       "118419  M06589:36:000000000-JH5C4:1:2119:16018:24138  107_TCC_S_319:321_TAT_Y   \n",
       "118422   M06589:36:000000000-JH5C4:1:2119:9147:24162  262_GTA_V_784:786_CGT_R   \n",
       "118426   M06589:36:000000000-JH5C4:1:2119:8516:24249  106_ATC_I_316:318_TCT_S   \n",
       "\n",
       "        pident  length  mismatch  gapopen  qstart  qend  sstart  send  \\\n",
       "0        100.0     340         0        0       1   340     281   620   \n",
       "1        100.0     318         0        0      18   335       1   318   \n",
       "2        100.0     318         0        0      18   335       1   318   \n",
       "4        100.0     318         0        0      18   335       1   318   \n",
       "5        100.0     318         0        0      18   335       1   318   \n",
       "...        ...     ...       ...      ...     ...   ...     ...   ...   \n",
       "118415   100.0     306         0        0       1   306     583   888   \n",
       "118417   100.0     340         0        0       1   340     281   620   \n",
       "118419   100.0     340         0        0       1   340     281   620   \n",
       "118422   100.0     306         0        0       1   306     583   888   \n",
       "118426   100.0     340         0        0       1   340     281   620   \n",
       "\n",
       "               evalue  bitscore  \n",
       "0       1.190000e-180     628.0  \n",
       "1       1.980000e-168     588.0  \n",
       "2       1.980000e-168     588.0  \n",
       "4       1.980000e-168     588.0  \n",
       "5       1.980000e-168     588.0  \n",
       "...               ...       ...  \n",
       "118415  8.990000e-162     566.0  \n",
       "118417  1.190000e-180     628.0  \n",
       "118419  1.190000e-180     628.0  \n",
       "118422  8.990000e-162     566.0  \n",
       "118426  1.190000e-180     628.0  \n",
       "\n",
       "[85880 rows x 12 columns]"
      ]
     },
     "execution_count": 7,
     "metadata": {},
     "output_type": "execute_result"
    }
   ],
   "source": [
    "df1"
   ]
  },
  {
   "cell_type": "code",
   "execution_count": 8,
   "id": "genuine-vector",
   "metadata": {},
   "outputs": [
    {
     "data": {
      "text/plain": [
       "count                       85880\n",
       "unique                       1204\n",
       "top       296_TGA_*_886:888_TTT_F\n",
       "freq                         8310\n",
       "Name: sseqid, dtype: object"
      ]
     },
     "execution_count": 8,
     "metadata": {},
     "output_type": "execute_result"
    }
   ],
   "source": [
    "df1[\"sseqid\"].describe()"
   ]
  },
  {
   "cell_type": "code",
   "execution_count": 9,
   "id": "documented-nelson",
   "metadata": {},
   "outputs": [
    {
     "data": {
      "text/plain": [
       "85880"
      ]
     },
     "execution_count": 9,
     "metadata": {},
     "output_type": "execute_result"
    }
   ],
   "source": [
    "df1[\"sseqid\"].count()"
   ]
  },
  {
   "cell_type": "code",
   "execution_count": 10,
   "id": "incorrect-representative",
   "metadata": {},
   "outputs": [
    {
     "data": {
      "text/plain": [
       "1204"
      ]
     },
     "execution_count": 10,
     "metadata": {},
     "output_type": "execute_result"
    }
   ],
   "source": [
    "len(set(df1[\"sseqid\"]))"
   ]
  },
  {
   "cell_type": "code",
   "execution_count": 55,
   "id": "historical-sydney",
   "metadata": {},
   "outputs": [
    {
     "data": {
      "text/plain": [
       "296_886:888_TTT_F    1852\n",
       "290_868:870_ATG_M    1291\n",
       "165_493:495_GTG_V    1201\n",
       "217_649:651_GTG_V     973\n",
       "165_493:495_GGG_G     762\n",
       "                     ... \n",
       "122_364:366_TTG_L       1\n",
       "139_415:417_GTG_V       1\n",
       "82_244:246_CTG_L        1\n",
       "133_397:399_GCG_A       1\n",
       "289_865:867_CAG_Q       1\n",
       "Name: sseqid, Length: 827, dtype: int64"
      ]
     },
     "execution_count": 55,
     "metadata": {},
     "output_type": "execute_result"
    }
   ],
   "source": [
    "df1[\"sseqid\"].value_counts()"
   ]
  },
  {
   "cell_type": "code",
   "execution_count": 11,
   "id": "floppy-isaac",
   "metadata": {},
   "outputs": [],
   "source": [
    "df2 = df1[\"sseqid\"].str.split(\"_\", expand=True)"
   ]
  },
  {
   "cell_type": "code",
   "execution_count": 13,
   "id": "bibliographic-pierce",
   "metadata": {},
   "outputs": [],
   "source": [
    "df2.columns = [\"start\", \"ori_nt\", \"ori_aa\", \"position\", \"nt\", \"aa\"]"
   ]
  },
  {
   "cell_type": "code",
   "execution_count": 14,
   "id": "inside-taylor",
   "metadata": {},
   "outputs": [
    {
     "data": {
      "text/html": [
       "<div>\n",
       "<style scoped>\n",
       "    .dataframe tbody tr th:only-of-type {\n",
       "        vertical-align: middle;\n",
       "    }\n",
       "\n",
       "    .dataframe tbody tr th {\n",
       "        vertical-align: top;\n",
       "    }\n",
       "\n",
       "    .dataframe thead th {\n",
       "        text-align: right;\n",
       "    }\n",
       "</style>\n",
       "<table border=\"1\" class=\"dataframe\">\n",
       "  <thead>\n",
       "    <tr style=\"text-align: right;\">\n",
       "      <th></th>\n",
       "      <th>start</th>\n",
       "      <th>ori_nt</th>\n",
       "      <th>ori_aa</th>\n",
       "      <th>position</th>\n",
       "      <th>nt</th>\n",
       "      <th>aa</th>\n",
       "    </tr>\n",
       "  </thead>\n",
       "  <tbody>\n",
       "    <tr>\n",
       "      <th>0</th>\n",
       "      <td>168</td>\n",
       "      <td>CAG</td>\n",
       "      <td>Q</td>\n",
       "      <td>502:504</td>\n",
       "      <td>AGG</td>\n",
       "      <td>R</td>\n",
       "    </tr>\n",
       "    <tr>\n",
       "      <th>1</th>\n",
       "      <td>81</td>\n",
       "      <td>GAC</td>\n",
       "      <td>D</td>\n",
       "      <td>241:243</td>\n",
       "      <td>GTG</td>\n",
       "      <td>V</td>\n",
       "    </tr>\n",
       "    <tr>\n",
       "      <th>2</th>\n",
       "      <td>52</td>\n",
       "      <td>GAA</td>\n",
       "      <td>E</td>\n",
       "      <td>154:156</td>\n",
       "      <td>GCT</td>\n",
       "      <td>A</td>\n",
       "    </tr>\n",
       "    <tr>\n",
       "      <th>4</th>\n",
       "      <td>296</td>\n",
       "      <td>TGA</td>\n",
       "      <td>*</td>\n",
       "      <td>886:888</td>\n",
       "      <td>TTT</td>\n",
       "      <td>F</td>\n",
       "    </tr>\n",
       "    <tr>\n",
       "      <th>5</th>\n",
       "      <td>55</td>\n",
       "      <td>AAC</td>\n",
       "      <td>N</td>\n",
       "      <td>163:165</td>\n",
       "      <td>TCT</td>\n",
       "      <td>S</td>\n",
       "    </tr>\n",
       "    <tr>\n",
       "      <th>...</th>\n",
       "      <td>...</td>\n",
       "      <td>...</td>\n",
       "      <td>...</td>\n",
       "      <td>...</td>\n",
       "      <td>...</td>\n",
       "      <td>...</td>\n",
       "    </tr>\n",
       "    <tr>\n",
       "      <th>118415</th>\n",
       "      <td>226</td>\n",
       "      <td>ACC</td>\n",
       "      <td>T</td>\n",
       "      <td>676:678</td>\n",
       "      <td>CGG</td>\n",
       "      <td>R</td>\n",
       "    </tr>\n",
       "    <tr>\n",
       "      <th>118417</th>\n",
       "      <td>159</td>\n",
       "      <td>AAC</td>\n",
       "      <td>N</td>\n",
       "      <td>475:477</td>\n",
       "      <td>CGT</td>\n",
       "      <td>R</td>\n",
       "    </tr>\n",
       "    <tr>\n",
       "      <th>118419</th>\n",
       "      <td>107</td>\n",
       "      <td>TCC</td>\n",
       "      <td>S</td>\n",
       "      <td>319:321</td>\n",
       "      <td>TAT</td>\n",
       "      <td>Y</td>\n",
       "    </tr>\n",
       "    <tr>\n",
       "      <th>118422</th>\n",
       "      <td>262</td>\n",
       "      <td>GTA</td>\n",
       "      <td>V</td>\n",
       "      <td>784:786</td>\n",
       "      <td>CGT</td>\n",
       "      <td>R</td>\n",
       "    </tr>\n",
       "    <tr>\n",
       "      <th>118426</th>\n",
       "      <td>106</td>\n",
       "      <td>ATC</td>\n",
       "      <td>I</td>\n",
       "      <td>316:318</td>\n",
       "      <td>TCT</td>\n",
       "      <td>S</td>\n",
       "    </tr>\n",
       "  </tbody>\n",
       "</table>\n",
       "<p>85880 rows × 6 columns</p>\n",
       "</div>"
      ],
      "text/plain": [
       "       start ori_nt ori_aa position   nt aa\n",
       "0        168    CAG      Q  502:504  AGG  R\n",
       "1         81    GAC      D  241:243  GTG  V\n",
       "2         52    GAA      E  154:156  GCT  A\n",
       "4        296    TGA      *  886:888  TTT  F\n",
       "5         55    AAC      N  163:165  TCT  S\n",
       "...      ...    ...    ...      ...  ... ..\n",
       "118415   226    ACC      T  676:678  CGG  R\n",
       "118417   159    AAC      N  475:477  CGT  R\n",
       "118419   107    TCC      S  319:321  TAT  Y\n",
       "118422   262    GTA      V  784:786  CGT  R\n",
       "118426   106    ATC      I  316:318  TCT  S\n",
       "\n",
       "[85880 rows x 6 columns]"
      ]
     },
     "execution_count": 14,
     "metadata": {},
     "output_type": "execute_result"
    }
   ],
   "source": [
    "df2"
   ]
  },
  {
   "cell_type": "code",
   "execution_count": 15,
   "id": "complimentary-scale",
   "metadata": {},
   "outputs": [
    {
     "data": {
      "text/plain": [
       "296    8312\n",
       "165    1788\n",
       "290    1485\n",
       "232    1184\n",
       "94     1100\n",
       "       ... \n",
       "252       1\n",
       "154       1\n",
       "216       1\n",
       "174       1\n",
       "255       1\n",
       "Name: start, Length: 282, dtype: int64"
      ]
     },
     "execution_count": 15,
     "metadata": {},
     "output_type": "execute_result"
    }
   ],
   "source": [
    "df2[\"start\"].value_counts()"
   ]
  },
  {
   "cell_type": "code",
   "execution_count": 16,
   "id": "martial-discrimination",
   "metadata": {},
   "outputs": [
    {
     "data": {
      "text/html": [
       "<div>\n",
       "<style scoped>\n",
       "    .dataframe tbody tr th:only-of-type {\n",
       "        vertical-align: middle;\n",
       "    }\n",
       "\n",
       "    .dataframe tbody tr th {\n",
       "        vertical-align: top;\n",
       "    }\n",
       "\n",
       "    .dataframe thead th {\n",
       "        text-align: right;\n",
       "    }\n",
       "</style>\n",
       "<table border=\"1\" class=\"dataframe\">\n",
       "  <thead>\n",
       "    <tr style=\"text-align: right;\">\n",
       "      <th></th>\n",
       "      <th>start</th>\n",
       "      <th>ori_nt</th>\n",
       "      <th>ori_aa</th>\n",
       "      <th>position</th>\n",
       "      <th>nt</th>\n",
       "      <th>aa</th>\n",
       "    </tr>\n",
       "  </thead>\n",
       "  <tbody>\n",
       "    <tr>\n",
       "      <th>count</th>\n",
       "      <td>85880</td>\n",
       "      <td>85880</td>\n",
       "      <td>85880</td>\n",
       "      <td>85880</td>\n",
       "      <td>85880</td>\n",
       "      <td>85880</td>\n",
       "    </tr>\n",
       "    <tr>\n",
       "      <th>unique</th>\n",
       "      <td>282</td>\n",
       "      <td>47</td>\n",
       "      <td>21</td>\n",
       "      <td>282</td>\n",
       "      <td>32</td>\n",
       "      <td>21</td>\n",
       "    </tr>\n",
       "    <tr>\n",
       "      <th>top</th>\n",
       "      <td>296</td>\n",
       "      <td>TGA</td>\n",
       "      <td>*</td>\n",
       "      <td>886:888</td>\n",
       "      <td>TTT</td>\n",
       "      <td>R</td>\n",
       "    </tr>\n",
       "    <tr>\n",
       "      <th>freq</th>\n",
       "      <td>8312</td>\n",
       "      <td>8312</td>\n",
       "      <td>8312</td>\n",
       "      <td>8312</td>\n",
       "      <td>9145</td>\n",
       "      <td>9417</td>\n",
       "    </tr>\n",
       "  </tbody>\n",
       "</table>\n",
       "</div>"
      ],
      "text/plain": [
       "        start ori_nt ori_aa position     nt     aa\n",
       "count   85880  85880  85880    85880  85880  85880\n",
       "unique    282     47     21      282     32     21\n",
       "top       296    TGA      *  886:888    TTT      R\n",
       "freq     8312   8312   8312     8312   9145   9417"
      ]
     },
     "execution_count": 16,
     "metadata": {},
     "output_type": "execute_result"
    }
   ],
   "source": [
    "df2.describe()"
   ]
  },
  {
   "cell_type": "code",
   "execution_count": 42,
   "id": "confused-portal",
   "metadata": {},
   "outputs": [
    {
     "data": {
      "text/plain": [
       "start  ori_nt  ori_aa  position  nt   aa\n",
       "296    TGA     *       886:888   TTT  F     8310\n",
       "165    TAC     Y       493:495   CTT  L     1737\n",
       "94     GAG     E       280:282   GCT  A     1059\n",
       "290    ATG     M       868:870   ATG  M     1049\n",
       "58     CTG     L       172:174   CAG  Q     1019\n",
       "                                            ... \n",
       "174    AAC     N       520:522   GAG  E        1\n",
       "287    TTC     F       859:861   TTG  L        1\n",
       "288    CAC     H       862:864   CAG  Q        1\n",
       "                                 CAT  H        1\n",
       "1      ATG     M       1:3       AAG  K        1\n",
       "Length: 1204, dtype: int64"
      ]
     },
     "execution_count": 42,
     "metadata": {},
     "output_type": "execute_result"
    }
   ],
   "source": [
    "df2.value_counts()"
   ]
  },
  {
   "cell_type": "code",
   "execution_count": 17,
   "id": "combined-making",
   "metadata": {},
   "outputs": [],
   "source": [
    "mutate = df2[\"start\"].value_counts()"
   ]
  },
  {
   "cell_type": "code",
   "execution_count": 19,
   "id": "endless-redhead",
   "metadata": {},
   "outputs": [
    {
     "data": {
      "text/plain": [
       "pandas.core.series.Series"
      ]
     },
     "execution_count": 19,
     "metadata": {},
     "output_type": "execute_result"
    }
   ],
   "source": [
    "type(mutate)"
   ]
  },
  {
   "cell_type": "code",
   "execution_count": 23,
   "id": "thick-demand",
   "metadata": {},
   "outputs": [
    {
     "data": {
      "text/plain": [
       "296    8312\n",
       "165    1788\n",
       "290    1485\n",
       "232    1184\n",
       "94     1100\n",
       "       ... \n",
       "252       1\n",
       "154       1\n",
       "216       1\n",
       "174       1\n",
       "255       1\n",
       "Name: start, Length: 282, dtype: int64"
      ]
     },
     "execution_count": 23,
     "metadata": {},
     "output_type": "execute_result"
    }
   ],
   "source": [
    "mutate"
   ]
  },
  {
   "cell_type": "code",
   "execution_count": 31,
   "id": "adequate-studio",
   "metadata": {},
   "outputs": [
    {
     "data": {
      "text/plain": [
       "85880"
      ]
     },
     "execution_count": 31,
     "metadata": {},
     "output_type": "execute_result"
    }
   ],
   "source": [
    "sum(mutate)"
   ]
  },
  {
   "cell_type": "code",
   "execution_count": 27,
   "id": "fresh-floor",
   "metadata": {},
   "outputs": [
    {
     "data": {
      "text/plain": [
       "Index(['296', '165', '290', '232', '94', '57', '58', '60', '54', '63',\n",
       "       ...\n",
       "       '185', '102', '113', '135', '197', '252', '154', '216', '174', '255'],\n",
       "      dtype='object', length=282)"
      ]
     },
     "execution_count": 27,
     "metadata": {},
     "output_type": "execute_result"
    }
   ],
   "source": [
    "mutate.index"
   ]
  },
  {
   "cell_type": "code",
   "execution_count": 52,
   "id": "promising-might",
   "metadata": {},
   "outputs": [],
   "source": [
    "stat1 = df2[\"start\"].value_counts(normalize=True).rename_axis(\"start\").reset_index(name='ID')"
   ]
  },
  {
   "cell_type": "code",
   "execution_count": 73,
   "id": "million-nature",
   "metadata": {},
   "outputs": [],
   "source": [
    "stat1 = df2[\"start\"].value_counts().rename_axis(\"start\").reset_index(name='Count')"
   ]
  },
  {
   "cell_type": "code",
   "execution_count": 74,
   "id": "objective-bryan",
   "metadata": {},
   "outputs": [
    {
     "data": {
      "text/html": [
       "<div>\n",
       "<style scoped>\n",
       "    .dataframe tbody tr th:only-of-type {\n",
       "        vertical-align: middle;\n",
       "    }\n",
       "\n",
       "    .dataframe tbody tr th {\n",
       "        vertical-align: top;\n",
       "    }\n",
       "\n",
       "    .dataframe thead th {\n",
       "        text-align: right;\n",
       "    }\n",
       "</style>\n",
       "<table border=\"1\" class=\"dataframe\">\n",
       "  <thead>\n",
       "    <tr style=\"text-align: right;\">\n",
       "      <th></th>\n",
       "      <th>start</th>\n",
       "      <th>Count</th>\n",
       "    </tr>\n",
       "  </thead>\n",
       "  <tbody>\n",
       "    <tr>\n",
       "      <th>0</th>\n",
       "      <td>296</td>\n",
       "      <td>8312</td>\n",
       "    </tr>\n",
       "    <tr>\n",
       "      <th>1</th>\n",
       "      <td>165</td>\n",
       "      <td>1788</td>\n",
       "    </tr>\n",
       "    <tr>\n",
       "      <th>2</th>\n",
       "      <td>290</td>\n",
       "      <td>1485</td>\n",
       "    </tr>\n",
       "    <tr>\n",
       "      <th>3</th>\n",
       "      <td>232</td>\n",
       "      <td>1184</td>\n",
       "    </tr>\n",
       "    <tr>\n",
       "      <th>4</th>\n",
       "      <td>94</td>\n",
       "      <td>1100</td>\n",
       "    </tr>\n",
       "    <tr>\n",
       "      <th>...</th>\n",
       "      <td>...</td>\n",
       "      <td>...</td>\n",
       "    </tr>\n",
       "    <tr>\n",
       "      <th>277</th>\n",
       "      <td>252</td>\n",
       "      <td>1</td>\n",
       "    </tr>\n",
       "    <tr>\n",
       "      <th>278</th>\n",
       "      <td>154</td>\n",
       "      <td>1</td>\n",
       "    </tr>\n",
       "    <tr>\n",
       "      <th>279</th>\n",
       "      <td>216</td>\n",
       "      <td>1</td>\n",
       "    </tr>\n",
       "    <tr>\n",
       "      <th>280</th>\n",
       "      <td>174</td>\n",
       "      <td>1</td>\n",
       "    </tr>\n",
       "    <tr>\n",
       "      <th>281</th>\n",
       "      <td>255</td>\n",
       "      <td>1</td>\n",
       "    </tr>\n",
       "  </tbody>\n",
       "</table>\n",
       "<p>282 rows × 2 columns</p>\n",
       "</div>"
      ],
      "text/plain": [
       "    start  Count\n",
       "0     296   8312\n",
       "1     165   1788\n",
       "2     290   1485\n",
       "3     232   1184\n",
       "4      94   1100\n",
       "..    ...    ...\n",
       "277   252      1\n",
       "278   154      1\n",
       "279   216      1\n",
       "280   174      1\n",
       "281   255      1\n",
       "\n",
       "[282 rows x 2 columns]"
      ]
     },
     "execution_count": 74,
     "metadata": {},
     "output_type": "execute_result"
    }
   ],
   "source": [
    "stat1"
   ]
  },
  {
   "cell_type": "code",
   "execution_count": 58,
   "id": "single-lambda",
   "metadata": {},
   "outputs": [
    {
     "data": {
      "text/plain": [
       "str"
      ]
     },
     "execution_count": 58,
     "metadata": {},
     "output_type": "execute_result"
    }
   ],
   "source": [
    "type(stat1[\"start\"][0])"
   ]
  },
  {
   "cell_type": "markdown",
   "id": "satellite-butler",
   "metadata": {
    "heading_collapsed": "true",
    "tags": []
   },
   "source": [
    "### test"
   ]
  },
  {
   "cell_type": "code",
   "execution_count": 28,
   "id": "combined-albania",
   "metadata": {},
   "outputs": [],
   "source": [
    "stat = pd.DataFrame()"
   ]
  },
  {
   "cell_type": "code",
   "execution_count": 29,
   "id": "exposed-parallel",
   "metadata": {},
   "outputs": [],
   "source": [
    "stat[\"start\"] = mutate.index"
   ]
  },
  {
   "cell_type": "code",
   "execution_count": 36,
   "id": "sapphire-eating",
   "metadata": {},
   "outputs": [
    {
     "data": {
      "text/html": [
       "<div>\n",
       "<style scoped>\n",
       "    .dataframe tbody tr th:only-of-type {\n",
       "        vertical-align: middle;\n",
       "    }\n",
       "\n",
       "    .dataframe tbody tr th {\n",
       "        vertical-align: top;\n",
       "    }\n",
       "\n",
       "    .dataframe thead th {\n",
       "        text-align: right;\n",
       "    }\n",
       "</style>\n",
       "<table border=\"1\" class=\"dataframe\">\n",
       "  <thead>\n",
       "    <tr style=\"text-align: right;\">\n",
       "      <th></th>\n",
       "      <th>start</th>\n",
       "      <th>count</th>\n",
       "    </tr>\n",
       "  </thead>\n",
       "  <tbody>\n",
       "    <tr>\n",
       "      <th>0</th>\n",
       "      <td>296</td>\n",
       "      <td>NaN</td>\n",
       "    </tr>\n",
       "    <tr>\n",
       "      <th>1</th>\n",
       "      <td>165</td>\n",
       "      <td>NaN</td>\n",
       "    </tr>\n",
       "    <tr>\n",
       "      <th>2</th>\n",
       "      <td>290</td>\n",
       "      <td>NaN</td>\n",
       "    </tr>\n",
       "    <tr>\n",
       "      <th>3</th>\n",
       "      <td>232</td>\n",
       "      <td>NaN</td>\n",
       "    </tr>\n",
       "    <tr>\n",
       "      <th>4</th>\n",
       "      <td>94</td>\n",
       "      <td>NaN</td>\n",
       "    </tr>\n",
       "    <tr>\n",
       "      <th>...</th>\n",
       "      <td>...</td>\n",
       "      <td>...</td>\n",
       "    </tr>\n",
       "    <tr>\n",
       "      <th>277</th>\n",
       "      <td>252</td>\n",
       "      <td>NaN</td>\n",
       "    </tr>\n",
       "    <tr>\n",
       "      <th>278</th>\n",
       "      <td>154</td>\n",
       "      <td>NaN</td>\n",
       "    </tr>\n",
       "    <tr>\n",
       "      <th>279</th>\n",
       "      <td>216</td>\n",
       "      <td>NaN</td>\n",
       "    </tr>\n",
       "    <tr>\n",
       "      <th>280</th>\n",
       "      <td>174</td>\n",
       "      <td>NaN</td>\n",
       "    </tr>\n",
       "    <tr>\n",
       "      <th>281</th>\n",
       "      <td>255</td>\n",
       "      <td>NaN</td>\n",
       "    </tr>\n",
       "  </tbody>\n",
       "</table>\n",
       "<p>282 rows × 2 columns</p>\n",
       "</div>"
      ],
      "text/plain": [
       "    start  count\n",
       "0     296    NaN\n",
       "1     165    NaN\n",
       "2     290    NaN\n",
       "3     232    NaN\n",
       "4      94    NaN\n",
       "..    ...    ...\n",
       "277   252    NaN\n",
       "278   154    NaN\n",
       "279   216    NaN\n",
       "280   174    NaN\n",
       "281   255    NaN\n",
       "\n",
       "[282 rows x 2 columns]"
      ]
     },
     "execution_count": 36,
     "metadata": {},
     "output_type": "execute_result"
    }
   ],
   "source": [
    "stat"
   ]
  },
  {
   "cell_type": "code",
   "execution_count": 38,
   "id": "subsequent-phoenix",
   "metadata": {},
   "outputs": [],
   "source": [
    "persent = mutate/sum(mutate) * 100"
   ]
  },
  {
   "cell_type": "code",
   "execution_count": 40,
   "id": "prospective-burlington",
   "metadata": {},
   "outputs": [],
   "source": [
    "stat[\"count\"] = persent"
   ]
  },
  {
   "cell_type": "code",
   "execution_count": 44,
   "id": "protective-vietnamese",
   "metadata": {},
   "outputs": [
    {
     "data": {
      "text/plain": [
       "296    0.096786\n",
       "165    0.020820\n",
       "290    0.017292\n",
       "232    0.013787\n",
       "94     0.012809\n",
       "         ...   \n",
       "252    0.000012\n",
       "154    0.000012\n",
       "216    0.000012\n",
       "174    0.000012\n",
       "255    0.000012\n",
       "Name: start, Length: 282, dtype: float64"
      ]
     },
     "execution_count": 44,
     "metadata": {},
     "output_type": "execute_result"
    }
   ],
   "source": [
    "df2[\"start\"].value_counts(normalize=True)"
   ]
  },
  {
   "cell_type": "code",
   "execution_count": 39,
   "id": "biblical-tanzania",
   "metadata": {},
   "outputs": [
    {
     "data": {
      "text/plain": [
       "296    9.678621\n",
       "165    2.081975\n",
       "290    1.729157\n",
       "232    1.378668\n",
       "94     1.280857\n",
       "         ...   \n",
       "252    0.001164\n",
       "154    0.001164\n",
       "216    0.001164\n",
       "174    0.001164\n",
       "255    0.001164\n",
       "Name: start, Length: 282, dtype: float64"
      ]
     },
     "execution_count": 39,
     "metadata": {},
     "output_type": "execute_result"
    }
   ],
   "source": [
    "persent"
   ]
  },
  {
   "cell_type": "code",
   "execution_count": 41,
   "id": "proprietary-continuity",
   "metadata": {},
   "outputs": [
    {
     "data": {
      "text/html": [
       "<div>\n",
       "<style scoped>\n",
       "    .dataframe tbody tr th:only-of-type {\n",
       "        vertical-align: middle;\n",
       "    }\n",
       "\n",
       "    .dataframe tbody tr th {\n",
       "        vertical-align: top;\n",
       "    }\n",
       "\n",
       "    .dataframe thead th {\n",
       "        text-align: right;\n",
       "    }\n",
       "</style>\n",
       "<table border=\"1\" class=\"dataframe\">\n",
       "  <thead>\n",
       "    <tr style=\"text-align: right;\">\n",
       "      <th></th>\n",
       "      <th>start</th>\n",
       "      <th>count</th>\n",
       "    </tr>\n",
       "  </thead>\n",
       "  <tbody>\n",
       "    <tr>\n",
       "      <th>0</th>\n",
       "      <td>296</td>\n",
       "      <td>NaN</td>\n",
       "    </tr>\n",
       "    <tr>\n",
       "      <th>1</th>\n",
       "      <td>165</td>\n",
       "      <td>NaN</td>\n",
       "    </tr>\n",
       "    <tr>\n",
       "      <th>2</th>\n",
       "      <td>290</td>\n",
       "      <td>NaN</td>\n",
       "    </tr>\n",
       "    <tr>\n",
       "      <th>3</th>\n",
       "      <td>232</td>\n",
       "      <td>NaN</td>\n",
       "    </tr>\n",
       "    <tr>\n",
       "      <th>4</th>\n",
       "      <td>94</td>\n",
       "      <td>NaN</td>\n",
       "    </tr>\n",
       "    <tr>\n",
       "      <th>...</th>\n",
       "      <td>...</td>\n",
       "      <td>...</td>\n",
       "    </tr>\n",
       "    <tr>\n",
       "      <th>277</th>\n",
       "      <td>252</td>\n",
       "      <td>NaN</td>\n",
       "    </tr>\n",
       "    <tr>\n",
       "      <th>278</th>\n",
       "      <td>154</td>\n",
       "      <td>NaN</td>\n",
       "    </tr>\n",
       "    <tr>\n",
       "      <th>279</th>\n",
       "      <td>216</td>\n",
       "      <td>NaN</td>\n",
       "    </tr>\n",
       "    <tr>\n",
       "      <th>280</th>\n",
       "      <td>174</td>\n",
       "      <td>NaN</td>\n",
       "    </tr>\n",
       "    <tr>\n",
       "      <th>281</th>\n",
       "      <td>255</td>\n",
       "      <td>NaN</td>\n",
       "    </tr>\n",
       "  </tbody>\n",
       "</table>\n",
       "<p>282 rows × 2 columns</p>\n",
       "</div>"
      ],
      "text/plain": [
       "    start  count\n",
       "0     296    NaN\n",
       "1     165    NaN\n",
       "2     290    NaN\n",
       "3     232    NaN\n",
       "4      94    NaN\n",
       "..    ...    ...\n",
       "277   252    NaN\n",
       "278   154    NaN\n",
       "279   216    NaN\n",
       "280   174    NaN\n",
       "281   255    NaN\n",
       "\n",
       "[282 rows x 2 columns]"
      ]
     },
     "execution_count": 41,
     "metadata": {},
     "output_type": "execute_result"
    }
   ],
   "source": [
    "stat"
   ]
  },
  {
   "cell_type": "code",
   "execution_count": null,
   "id": "reflected-metadata",
   "metadata": {},
   "outputs": [],
   "source": []
  },
  {
   "cell_type": "markdown",
   "id": "boolean-petite",
   "metadata": {},
   "source": [
    "### table gen"
   ]
  },
  {
   "cell_type": "code",
   "execution_count": 75,
   "id": "athletic-latin",
   "metadata": {},
   "outputs": [],
   "source": [
    "df = pd.read_csv(\"ori_table.csv\")"
   ]
  },
  {
   "cell_type": "code",
   "execution_count": 76,
   "id": "quarterly-filter",
   "metadata": {},
   "outputs": [
    {
     "data": {
      "text/plain": [
       "numpy.int64"
      ]
     },
     "execution_count": 76,
     "metadata": {},
     "output_type": "execute_result"
    }
   ],
   "source": [
    "type(df[\"start\"][0])"
   ]
  },
  {
   "cell_type": "code",
   "execution_count": 77,
   "id": "thrown-justice",
   "metadata": {},
   "outputs": [],
   "source": [
    "df[\"start\"] = df[\"start\"].astype(str)"
   ]
  },
  {
   "cell_type": "code",
   "execution_count": 78,
   "id": "forward-antibody",
   "metadata": {},
   "outputs": [],
   "source": [
    "df = df.merge(stat1, on=\"start\")"
   ]
  },
  {
   "cell_type": "code",
   "execution_count": 79,
   "id": "color-lover",
   "metadata": {},
   "outputs": [
    {
     "data": {
      "text/html": [
       "<div>\n",
       "<style scoped>\n",
       "    .dataframe tbody tr th:only-of-type {\n",
       "        vertical-align: middle;\n",
       "    }\n",
       "\n",
       "    .dataframe tbody tr th {\n",
       "        vertical-align: top;\n",
       "    }\n",
       "\n",
       "    .dataframe thead th {\n",
       "        text-align: right;\n",
       "    }\n",
       "</style>\n",
       "<table border=\"1\" class=\"dataframe\">\n",
       "  <thead>\n",
       "    <tr style=\"text-align: right;\">\n",
       "      <th></th>\n",
       "      <th>ori_aa</th>\n",
       "      <th>ori_nt</th>\n",
       "      <th>start</th>\n",
       "      <th>Count</th>\n",
       "    </tr>\n",
       "  </thead>\n",
       "  <tbody>\n",
       "    <tr>\n",
       "      <th>0</th>\n",
       "      <td>M</td>\n",
       "      <td>ATG</td>\n",
       "      <td>1</td>\n",
       "      <td>14</td>\n",
       "    </tr>\n",
       "    <tr>\n",
       "      <th>1</th>\n",
       "      <td>R</td>\n",
       "      <td>CGG</td>\n",
       "      <td>2</td>\n",
       "      <td>509</td>\n",
       "    </tr>\n",
       "    <tr>\n",
       "      <th>2</th>\n",
       "      <td>R</td>\n",
       "      <td>CGC</td>\n",
       "      <td>3</td>\n",
       "      <td>110</td>\n",
       "    </tr>\n",
       "    <tr>\n",
       "      <th>3</th>\n",
       "      <td>E</td>\n",
       "      <td>GAA</td>\n",
       "      <td>4</td>\n",
       "      <td>289</td>\n",
       "    </tr>\n",
       "    <tr>\n",
       "      <th>4</th>\n",
       "      <td>S</td>\n",
       "      <td>AGT</td>\n",
       "      <td>5</td>\n",
       "      <td>258</td>\n",
       "    </tr>\n",
       "    <tr>\n",
       "      <th>...</th>\n",
       "      <td>...</td>\n",
       "      <td>...</td>\n",
       "      <td>...</td>\n",
       "      <td>...</td>\n",
       "    </tr>\n",
       "    <tr>\n",
       "      <th>277</th>\n",
       "      <td>I</td>\n",
       "      <td>ATC</td>\n",
       "      <td>292</td>\n",
       "      <td>253</td>\n",
       "    </tr>\n",
       "    <tr>\n",
       "      <th>278</th>\n",
       "      <td>G</td>\n",
       "      <td>GGC</td>\n",
       "      <td>293</td>\n",
       "      <td>284</td>\n",
       "    </tr>\n",
       "    <tr>\n",
       "      <th>279</th>\n",
       "      <td>Y</td>\n",
       "      <td>TAC</td>\n",
       "      <td>294</td>\n",
       "      <td>44</td>\n",
       "    </tr>\n",
       "    <tr>\n",
       "      <th>280</th>\n",
       "      <td>A</td>\n",
       "      <td>GCC</td>\n",
       "      <td>295</td>\n",
       "      <td>1</td>\n",
       "    </tr>\n",
       "    <tr>\n",
       "      <th>281</th>\n",
       "      <td>*</td>\n",
       "      <td>TGA</td>\n",
       "      <td>296</td>\n",
       "      <td>8312</td>\n",
       "    </tr>\n",
       "  </tbody>\n",
       "</table>\n",
       "<p>282 rows × 4 columns</p>\n",
       "</div>"
      ],
      "text/plain": [
       "    ori_aa ori_nt start  Count\n",
       "0        M    ATG     1     14\n",
       "1        R    CGG     2    509\n",
       "2        R    CGC     3    110\n",
       "3        E    GAA     4    289\n",
       "4        S    AGT     5    258\n",
       "..     ...    ...   ...    ...\n",
       "277      I    ATC   292    253\n",
       "278      G    GGC   293    284\n",
       "279      Y    TAC   294     44\n",
       "280      A    GCC   295      1\n",
       "281      *    TGA   296   8312\n",
       "\n",
       "[282 rows x 4 columns]"
      ]
     },
     "execution_count": 79,
     "metadata": {},
     "output_type": "execute_result"
    }
   ],
   "source": [
    "df"
   ]
  },
  {
   "cell_type": "code",
   "execution_count": 80,
   "id": "grave-submission",
   "metadata": {},
   "outputs": [],
   "source": [
    "df.to_csv(\"demo.csv\", index=None)"
   ]
  },
  {
   "cell_type": "code",
   "execution_count": null,
   "id": "empirical-section",
   "metadata": {},
   "outputs": [],
   "source": []
  }
 ],
 "metadata": {
  "kernelspec": {
   "display_name": "Python 3",
   "language": "python",
   "name": "python3"
  },
  "language_info": {
   "codemirror_mode": {
    "name": "ipython",
    "version": 3
   },
   "file_extension": ".py",
   "mimetype": "text/x-python",
   "name": "python",
   "nbconvert_exporter": "python",
   "pygments_lexer": "ipython3",
   "version": "3.8.6"
  }
 },
 "nbformat": 4,
 "nbformat_minor": 5
}
