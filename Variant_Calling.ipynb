{
 "cells": [
  {
   "cell_type": "code",
   "execution_count": 1,
   "id": "behavioral-lottery",
   "metadata": {},
   "outputs": [],
   "source": [
    "from Bio import SeqIO"
   ]
  },
  {
   "cell_type": "code",
   "execution_count": 2,
   "id": "voluntary-finish",
   "metadata": {},
   "outputs": [],
   "source": [
    "from Bio.Seq import Seq"
   ]
  },
  {
   "cell_type": "code",
   "execution_count": 3,
   "id": "unable-timer",
   "metadata": {},
   "outputs": [],
   "source": [
    "from Bio.SeqRecord import SeqRecord"
   ]
  },
  {
   "cell_type": "markdown",
   "id": "foreign-criterion",
   "metadata": {},
   "source": [
    "### import data"
   ]
  },
  {
   "cell_type": "code",
   "execution_count": 4,
   "id": "entitled-wings",
   "metadata": {},
   "outputs": [],
   "source": [
    "ori = SeqIO.read(\"/mnt/d/Lab/VC_SiLab/data/wt.fasta\", \"fasta\")"
   ]
  },
  {
   "cell_type": "code",
   "execution_count": 5,
   "id": "trying-demographic",
   "metadata": {},
   "outputs": [],
   "source": [
    "ori = ori.upper()"
   ]
  },
  {
   "cell_type": "code",
   "execution_count": 6,
   "id": "thermal-accent",
   "metadata": {},
   "outputs": [
    {
     "data": {
      "text/plain": [
       "SeqRecord(seq=Seq('ATGCGGCGCGAAAGTCTGTTGGTATCGGTTTGCAAGGGCCTGCGGGTACATGTC...TGA'), id='wt', name='wt', description='wt', dbxrefs=[])"
      ]
     },
     "execution_count": 6,
     "metadata": {},
     "output_type": "execute_result"
    }
   ],
   "source": [
    "ori"
   ]
  },
  {
   "cell_type": "code",
   "execution_count": 9,
   "id": "limiting-insurance",
   "metadata": {},
   "outputs": [
    {
     "data": {
      "text/plain": [
       "888"
      ]
     },
     "execution_count": 9,
     "metadata": {},
     "output_type": "execute_result"
    }
   ],
   "source": [
    "len(ori)"
   ]
  },
  {
   "cell_type": "code",
   "execution_count": 12,
   "id": "raising-employment",
   "metadata": {},
   "outputs": [
    {
     "data": {
      "text/plain": [
       "Seq('ATGCGGCGCGAAAGTCTGTTGGTATCGGTTTGCAAGGGCCTGCGGGTACATGTC...TGA')"
      ]
     },
     "execution_count": 12,
     "metadata": {},
     "output_type": "execute_result"
    }
   ],
   "source": [
    "ori.seq[0:889]"
   ]
  },
  {
   "cell_type": "code",
   "execution_count": 12,
   "id": "patent-legend",
   "metadata": {},
   "outputs": [
    {
     "data": {
      "text/plain": [
       "Seq('ATGCGGCGCGAAAGTCTGTTGGTATCGGTTTGCAAGGGCCTGCGGGTACATGTC...TGA')"
      ]
     },
     "execution_count": 12,
     "metadata": {},
     "output_type": "execute_result"
    }
   ],
   "source": [
    "ori.seq[0:888]"
   ]
  },
  {
   "cell_type": "code",
   "execution_count": 14,
   "id": "revolutionary-sarah",
   "metadata": {},
   "outputs": [
    {
     "data": {
      "text/plain": [
       "'ATGCGGCGCGAAAGTCTGTTGGTATCGGTTTGCAAGGGCCTGCGGGTACATGTCGAGCGCGTTGGGCAGGATCCCGGGCGCAGCACGGTGATGCTGGTCAACGGCGCGATGGCGACCACCGCCTCGTTCGCCCGGACCTGCAAGTGCCTGGCCGAACATTTCAACGTGGTGCTGTTCGACCTGCCCTTCGCCGGGCAGTCGCGTCAGCACAACCCGCAGCGCGGGTTGATCACCAAGGACGACGAGGTGGAAATCCTCCTGGCGCTGATCGAGCGCTTCGAGGTCAATCACCTGGTCTCCGCGTCCTGGGGCGGTATCTCCACGCTGCTGGCGCTGTCGCGCAATCCGCGCGGCATCCGCAGCTCGGTGGTGATGGCATTCGCCCCTGGACTGAACCAGGCGATGCTCGACTACGTCGGGCGGGCGCAGGCGCTGATCGAGCTGGACGACAAGTCGGCGATCGGCCATCTGCTCAACGAGACCGTCGGCAAATACCTGCCGCAGCGCCTGAAAGCCAGCAACCATCAGCACATGGCTTCGCTGGCCACCGGCGAATACGAGCAGGCGCGCTTTCACATCGACCAGGTGCTGGCGCTCAACGATCGGGGCTACTTGGCTTGCCTGGAGCGGATCCAGAGCCACGTGCATTTCATCAACGGCAGCTGGGACGAATACACCACCGCCGAGGACGCCCGCCAGTTCCGCGACTACCTGCCGCACTGCAGTTTCTCGCGGGTGGAGGGCACCGGGCATTTCCTCGACCTGGAGTCCAAGCTGGCAGCGGTACGCGTGCACCGCGCCCTGCTCGAGCACCTGCTGAAGCAACCGGAGCCGCAGCGGGCGGAACGCGCGGCGGGATTCCACGAGATGGCCATCGGCTACGCCTGA'"
      ]
     },
     "execution_count": 14,
     "metadata": {},
     "output_type": "execute_result"
    }
   ],
   "source": [
    "str(ori.seq)"
   ]
  },
  {
   "cell_type": "code",
   "execution_count": null,
   "id": "photographic-small",
   "metadata": {},
   "outputs": [],
   "source": []
  },
  {
   "cell_type": "code",
   "execution_count": 6,
   "id": "still-accuracy",
   "metadata": {},
   "outputs": [],
   "source": [
    "mrna = ori.seq.transcribe()"
   ]
  },
  {
   "cell_type": "code",
   "execution_count": 7,
   "id": "fossil-blogger",
   "metadata": {},
   "outputs": [],
   "source": [
    "prot = mrna.translate()"
   ]
  },
  {
   "cell_type": "code",
   "execution_count": 8,
   "id": "optical-discussion",
   "metadata": {},
   "outputs": [
    {
     "data": {
      "text/plain": [
       "Seq('MRRESLLVSVCKGLRVHVERVGQDPGRSTVMLVNGAMATTASFARTCKCLAEHF...YA*')"
      ]
     },
     "execution_count": 8,
     "metadata": {},
     "output_type": "execute_result"
    }
   ],
   "source": [
    "prot"
   ]
  },
  {
   "cell_type": "markdown",
   "id": "hungry-vaccine",
   "metadata": {},
   "source": [
    "### mutation"
   ]
  },
  {
   "cell_type": "code",
   "execution_count": 26,
   "id": "continuing-zimbabwe",
   "metadata": {},
   "outputs": [
    {
     "data": {
      "text/plain": [
       "888"
      ]
     },
     "execution_count": 26,
     "metadata": {},
     "output_type": "execute_result"
    }
   ],
   "source": [
    "len(ori.seq)"
   ]
  },
  {
   "cell_type": "code",
   "execution_count": 27,
   "id": "changing-earthquake",
   "metadata": {},
   "outputs": [
    {
     "data": {
      "text/plain": [
       "296.0"
      ]
     },
     "execution_count": 27,
     "metadata": {},
     "output_type": "execute_result"
    }
   ],
   "source": [
    "len(ori.seq)/3"
   ]
  },
  {
   "cell_type": "code",
   "execution_count": 9,
   "id": "wired-governor",
   "metadata": {},
   "outputs": [],
   "source": [
    "mutable_seq = ori.seq.tomutable()"
   ]
  },
  {
   "cell_type": "code",
   "execution_count": null,
   "id": "african-museum",
   "metadata": {},
   "outputs": [],
   "source": []
  },
  {
   "cell_type": "code",
   "execution_count": 15,
   "id": "dynamic-italy",
   "metadata": {},
   "outputs": [],
   "source": [
    "def SimNNK():\n",
    "    nnkList = []\n",
    "    protList = []\n",
    "    for n1 in [\"A\", \"C\", \"G\", \"T\"]:\n",
    "        for n2 in [\"A\", \"C\", \"G\", \"T\"]:\n",
    "            for k in [\"G\", \"T\"]:\n",
    "                nnk = n1+n2+k\n",
    "                seq = Seq(nnk)\n",
    "                mrna = seq.transcribe()\n",
    "                prot = mrna.translate()\n",
    "                nnkList.append(nnk)\n",
    "                protList.append(str(prot))\n",
    "    return nnkList, protList"
   ]
  },
  {
   "cell_type": "code",
   "execution_count": 16,
   "id": "european-architecture",
   "metadata": {
    "tags": []
   },
   "outputs": [],
   "source": [
    "nnkList, protList = SimNNK()"
   ]
  },
  {
   "cell_type": "code",
   "execution_count": 17,
   "id": "neutral-testament",
   "metadata": {
    "collapsed": true,
    "jupyter": {
     "outputs_hidden": true
    },
    "tags": []
   },
   "outputs": [
    {
     "data": {
      "text/plain": [
       "['AAG',\n",
       " 'AAT',\n",
       " 'ACG',\n",
       " 'ACT',\n",
       " 'AGG',\n",
       " 'AGT',\n",
       " 'ATG',\n",
       " 'ATT',\n",
       " 'CAG',\n",
       " 'CAT',\n",
       " 'CCG',\n",
       " 'CCT',\n",
       " 'CGG',\n",
       " 'CGT',\n",
       " 'CTG',\n",
       " 'CTT',\n",
       " 'GAG',\n",
       " 'GAT',\n",
       " 'GCG',\n",
       " 'GCT',\n",
       " 'GGG',\n",
       " 'GGT',\n",
       " 'GTG',\n",
       " 'GTT',\n",
       " 'TAG',\n",
       " 'TAT',\n",
       " 'TCG',\n",
       " 'TCT',\n",
       " 'TGG',\n",
       " 'TGT',\n",
       " 'TTG',\n",
       " 'TTT']"
      ]
     },
     "execution_count": 17,
     "metadata": {},
     "output_type": "execute_result"
    }
   ],
   "source": [
    "nnkList"
   ]
  },
  {
   "cell_type": "code",
   "execution_count": 18,
   "id": "civil-horizontal",
   "metadata": {
    "collapsed": true,
    "jupyter": {
     "outputs_hidden": true
    },
    "tags": []
   },
   "outputs": [
    {
     "data": {
      "text/plain": [
       "['K',\n",
       " 'N',\n",
       " 'T',\n",
       " 'T',\n",
       " 'R',\n",
       " 'S',\n",
       " 'M',\n",
       " 'I',\n",
       " 'Q',\n",
       " 'H',\n",
       " 'P',\n",
       " 'P',\n",
       " 'R',\n",
       " 'R',\n",
       " 'L',\n",
       " 'L',\n",
       " 'E',\n",
       " 'D',\n",
       " 'A',\n",
       " 'A',\n",
       " 'G',\n",
       " 'G',\n",
       " 'V',\n",
       " 'V',\n",
       " '*',\n",
       " 'Y',\n",
       " 'S',\n",
       " 'S',\n",
       " 'W',\n",
       " 'C',\n",
       " 'L',\n",
       " 'F']"
      ]
     },
     "execution_count": 18,
     "metadata": {},
     "output_type": "execute_result"
    }
   ],
   "source": [
    "protList"
   ]
  },
  {
   "cell_type": "code",
   "execution_count": 11,
   "id": "center-register",
   "metadata": {},
   "outputs": [
    {
     "data": {
      "text/plain": [
       "Seq('TTT')"
      ]
     },
     "execution_count": 11,
     "metadata": {},
     "output_type": "execute_result"
    }
   ],
   "source": [
    "seq"
   ]
  },
  {
   "cell_type": "code",
   "execution_count": 34,
   "id": "personal-rubber",
   "metadata": {},
   "outputs": [
    {
     "data": {
      "text/plain": [
       "Seq('ATGCGGCGCGAAAGTCTGTTGGTATCGGTTTGCAAGGGCCTGCGGGTACATGTC...TGA')"
      ]
     },
     "execution_count": 34,
     "metadata": {},
     "output_type": "execute_result"
    }
   ],
   "source": [
    "ori.seq"
   ]
  },
  {
   "cell_type": "code",
   "execution_count": 19,
   "id": "accepted-teach",
   "metadata": {},
   "outputs": [],
   "source": [
    "seq_list = []\n",
    "for i in range(int(len(mutable_seq)/3)):\n",
    "    mutable_seq = ori.seq.tomutable()\n",
    "    for nnk, prot in zip(nnkList, protList):\n",
    "        mutable_seq[i*3:i*3+3] = nnk\n",
    "        #print(mutable_seq)\n",
    "        seq = mutable_seq.toseq()\n",
    "        Seq = SeqRecord(seq)\n",
    "        Seq.id = str(i+1) + \"_\" + str(i*3+1) + \":\" + str(i*3+3) + \"_\" + nnk + \"_\" + prot\n",
    "        Seq.name = \"\"\n",
    "        Seq.description = \"\"\n",
    "        seq_list.append(Seq)"
   ]
  },
  {
   "cell_type": "code",
   "execution_count": 37,
   "id": "sixth-geometry",
   "metadata": {},
   "outputs": [
    {
     "data": {
      "text/plain": [
       "9472.0"
      ]
     },
     "execution_count": 37,
     "metadata": {},
     "output_type": "execute_result"
    }
   ],
   "source": [
    "len(ori.seq)/3 * 32"
   ]
  },
  {
   "cell_type": "code",
   "execution_count": 20,
   "id": "dramatic-cable",
   "metadata": {
    "tags": []
   },
   "outputs": [
    {
     "data": {
      "text/plain": [
       "9472"
      ]
     },
     "execution_count": 20,
     "metadata": {},
     "output_type": "execute_result"
    }
   ],
   "source": [
    "len(seq_list)"
   ]
  },
  {
   "cell_type": "markdown",
   "id": "atomic-conviction",
   "metadata": {},
   "source": [
    "只有seq,不算是record！"
   ]
  },
  {
   "cell_type": "code",
   "execution_count": 21,
   "id": "focused-engineer",
   "metadata": {},
   "outputs": [
    {
     "data": {
      "text/plain": [
       "[SeqRecord(seq=Seq('AAGCGGCGCGAAAGTCTGTTGGTATCGGTTTGCAAGGGCCTGCGGGTACATGTC...TGA'), id='1_1:3_AAG_K', name='', description='', dbxrefs=[]),\n",
       " SeqRecord(seq=Seq('AATCGGCGCGAAAGTCTGTTGGTATCGGTTTGCAAGGGCCTGCGGGTACATGTC...TGA'), id='1_1:3_AAT_N', name='', description='', dbxrefs=[]),\n",
       " SeqRecord(seq=Seq('ACGCGGCGCGAAAGTCTGTTGGTATCGGTTTGCAAGGGCCTGCGGGTACATGTC...TGA'), id='1_1:3_ACG_T', name='', description='', dbxrefs=[]),\n",
       " SeqRecord(seq=Seq('ACTCGGCGCGAAAGTCTGTTGGTATCGGTTTGCAAGGGCCTGCGGGTACATGTC...TGA'), id='1_1:3_ACT_T', name='', description='', dbxrefs=[]),\n",
       " SeqRecord(seq=Seq('AGGCGGCGCGAAAGTCTGTTGGTATCGGTTTGCAAGGGCCTGCGGGTACATGTC...TGA'), id='1_1:3_AGG_R', name='', description='', dbxrefs=[])]"
      ]
     },
     "execution_count": 21,
     "metadata": {},
     "output_type": "execute_result"
    }
   ],
   "source": [
    "seq_list[0:5]"
   ]
  },
  {
   "cell_type": "code",
   "execution_count": 22,
   "id": "incorporated-holder",
   "metadata": {},
   "outputs": [
    {
     "data": {
      "text/plain": [
       "9472"
      ]
     },
     "execution_count": 22,
     "metadata": {},
     "output_type": "execute_result"
    }
   ],
   "source": [
    "SeqIO.write(seq_list, \"mutate_sim.fasta\", \"fasta\")"
   ]
  },
  {
   "cell_type": "code",
   "execution_count": null,
   "id": "ancient-liquid",
   "metadata": {},
   "outputs": [],
   "source": []
  },
  {
   "cell_type": "code",
   "execution_count": 41,
   "id": "mysterious-pulse",
   "metadata": {},
   "outputs": [
    {
     "data": {
      "text/plain": [
       "Seq('AAGCGGCGCGAAAGTCTGTTGGTATCGGTTTGCAAGGGCCTGCGGGTACATGTC...TGA')"
      ]
     },
     "execution_count": 41,
     "metadata": {},
     "output_type": "execute_result"
    }
   ],
   "source": [
    "seq_list[0]"
   ]
  },
  {
   "cell_type": "code",
   "execution_count": 42,
   "id": "stunning-allen",
   "metadata": {},
   "outputs": [
    {
     "data": {
      "text/plain": [
       "Bio.Seq.Seq"
      ]
     },
     "execution_count": 42,
     "metadata": {},
     "output_type": "execute_result"
    }
   ],
   "source": [
    "type(seq_list[0])"
   ]
  },
  {
   "cell_type": "markdown",
   "id": "supposed-preparation",
   "metadata": {},
   "source": [
    "position+nnk+prot"
   ]
  },
  {
   "cell_type": "markdown",
   "id": "painful-trunk",
   "metadata": {},
   "source": [
    "1_i*3:i*3+3_AAT_K "
   ]
  },
  {
   "cell_type": "markdown",
   "id": "south-prospect",
   "metadata": {},
   "source": [
    "### seq mapping"
   ]
  },
  {
   "cell_type": "code",
   "execution_count": 39,
   "id": "destroyed-manitoba",
   "metadata": {},
   "outputs": [],
   "source": [
    "demo = \"/mnt/d/Lab/VC_SiLab/result/A3/fastp/A3_S3_L001.fastq\""
   ]
  },
  {
   "cell_type": "code",
   "execution_count": null,
   "id": "answering-operations",
   "metadata": {},
   "outputs": [],
   "source": [
    "for seq in SeqIO.parse(demo, fastq):  "
   ]
  },
  {
   "cell_type": "code",
   "execution_count": 44,
   "id": "quick-guitar",
   "metadata": {},
   "outputs": [],
   "source": [
    "from Bio.Blast.Applications import NcbiblastxCommandline"
   ]
  },
  {
   "cell_type": "code",
   "execution_count": 45,
   "id": "pursuant-cookie",
   "metadata": {
    "collapsed": true,
    "jupyter": {
     "outputs_hidden": true
    },
    "tags": []
   },
   "outputs": [
    {
     "name": "stdout",
     "output_type": "stream",
     "text": [
      "Help on class NcbiblastxCommandline in module Bio.Blast.Applications:\n",
      "\n",
      "class NcbiblastxCommandline(_NcbiblastMain2SeqCommandline)\n",
      " |  NcbiblastxCommandline(cmd='blastx', **kwargs)\n",
      " |  \n",
      " |  Wrapper for the NCBI BLAST+ program blastx (nucleotide query, protein database).\n",
      " |  \n",
      " |  With the release of BLAST+ (BLAST rewritten in C++ instead of C), the NCBI\n",
      " |  replaced the old blastall tool with separate tools for each of the searches.\n",
      " |  This wrapper therefore replaces BlastallCommandline with option -p blastx.\n",
      " |  \n",
      " |  >>> from Bio.Blast.Applications import NcbiblastxCommandline\n",
      " |  >>> cline = NcbiblastxCommandline(query=\"m_cold.fasta\", db=\"nr\", evalue=0.001)\n",
      " |  >>> cline\n",
      " |  NcbiblastxCommandline(cmd='blastx', query='m_cold.fasta', db='nr', evalue=0.001)\n",
      " |  >>> print(cline)\n",
      " |  blastx -query m_cold.fasta -db nr -evalue 0.001\n",
      " |  \n",
      " |  You would typically run the command line with cline() or via the Python\n",
      " |  subprocess module, as described in the Biopython tutorial.\n",
      " |  \n",
      " |  Method resolution order:\n",
      " |      NcbiblastxCommandline\n",
      " |      _NcbiblastMain2SeqCommandline\n",
      " |      _Ncbiblast2SeqCommandline\n",
      " |      _NcbiblastCommandline\n",
      " |      _NcbibaseblastCommandline\n",
      " |      Bio.Application.AbstractCommandline\n",
      " |      builtins.object\n",
      " |  \n",
      " |  Methods defined here:\n",
      " |  \n",
      " |  __init__(self, cmd='blastx', **kwargs)\n",
      " |      Initialize the class.\n",
      " |  \n",
      " |  ----------------------------------------------------------------------\n",
      " |  Methods inherited from Bio.Application.AbstractCommandline:\n",
      " |  \n",
      " |  __call__(self, stdin=None, stdout=True, stderr=True, cwd=None, env=None)\n",
      " |      Execute command, wait for it to finish, return (stdout, stderr).\n",
      " |      \n",
      " |      Runs the command line tool and waits for it to finish. If it returns\n",
      " |      a non-zero error level, an exception is raised. Otherwise two strings\n",
      " |      are returned containing stdout and stderr.\n",
      " |      \n",
      " |      The optional stdin argument should be a string of data which will be\n",
      " |      passed to the tool as standard input.\n",
      " |      \n",
      " |      The optional stdout and stderr argument may be filenames (string),\n",
      " |      but otherwise are treated as a booleans, and control if the output\n",
      " |      should be captured as strings (True, default), or ignored by sending\n",
      " |      it to /dev/null to avoid wasting memory (False). If sent to a file\n",
      " |      or ignored, then empty string(s) are returned.\n",
      " |      \n",
      " |      The optional cwd argument is a string giving the working directory\n",
      " |      to run the command from. See Python's subprocess module documentation\n",
      " |      for more details.\n",
      " |      \n",
      " |      The optional env argument is a dictionary setting the environment\n",
      " |      variables to be used in the new process. By default the current\n",
      " |      process' environment variables are used. See Python's subprocess\n",
      " |      module documentation for more details.\n",
      " |      \n",
      " |      Default example usage::\n",
      " |      \n",
      " |          from Bio.Emboss.Applications import WaterCommandline\n",
      " |          water_cmd = WaterCommandline(gapopen=10, gapextend=0.5,\n",
      " |                                       stdout=True, auto=True,\n",
      " |                                       asequence=\"a.fasta\", bsequence=\"b.fasta\")\n",
      " |          print(\"About to run: %s\" % water_cmd)\n",
      " |          std_output, err_output = water_cmd()\n",
      " |      \n",
      " |      This functionality is similar to subprocess.check_output(). In general\n",
      " |      if you require more control over running the command, use subprocess\n",
      " |      directly.\n",
      " |      \n",
      " |      When the program called returns a non-zero error level, a custom\n",
      " |      ApplicationError exception is raised. This includes any stdout and\n",
      " |      stderr strings captured as attributes of the exception object, since\n",
      " |      they may be useful for diagnosing what went wrong.\n",
      " |  \n",
      " |  __repr__(self)\n",
      " |      Return a representation of the command line object for debugging.\n",
      " |      \n",
      " |      e.g.\n",
      " |      \n",
      " |      >>> from Bio.Emboss.Applications import WaterCommandline\n",
      " |      >>> cline = WaterCommandline(gapopen=10, gapextend=0.5)\n",
      " |      >>> cline.asequence = \"asis:ACCCGGGCGCGGT\"\n",
      " |      >>> cline.bsequence = \"asis:ACCCGAGCGCGGT\"\n",
      " |      >>> cline.outfile = \"temp_water.txt\"\n",
      " |      >>> print(cline)\n",
      " |      water -outfile=temp_water.txt -asequence=asis:ACCCGGGCGCGGT -bsequence=asis:ACCCGAGCGCGGT -gapopen=10 -gapextend=0.5\n",
      " |      >>> cline\n",
      " |      WaterCommandline(cmd='water', outfile='temp_water.txt', asequence='asis:ACCCGGGCGCGGT', bsequence='asis:ACCCGAGCGCGGT', gapopen=10, gapextend=0.5)\n",
      " |  \n",
      " |  __setattr__(self, name, value)\n",
      " |      Set attribute name to value (PRIVATE).\n",
      " |      \n",
      " |      This code implements a workaround for a user interface issue.\n",
      " |      Without this __setattr__ attribute-based assignment of parameters\n",
      " |      will silently accept invalid parameters, leading to known instances\n",
      " |      of the user assuming that parameters for the application are set,\n",
      " |      when they are not.\n",
      " |      \n",
      " |      >>> from Bio.Emboss.Applications import WaterCommandline\n",
      " |      >>> cline = WaterCommandline(gapopen=10, gapextend=0.5, stdout=True)\n",
      " |      >>> cline.asequence = \"a.fasta\"\n",
      " |      >>> cline.bsequence = \"b.fasta\"\n",
      " |      >>> cline.csequence = \"c.fasta\"\n",
      " |      Traceback (most recent call last):\n",
      " |      ...\n",
      " |      ValueError: Option name csequence was not found.\n",
      " |      >>> print(cline)\n",
      " |      water -stdout -asequence=a.fasta -bsequence=b.fasta -gapopen=10 -gapextend=0.5\n",
      " |      \n",
      " |      This workaround uses a whitelist of object attributes, and sets the\n",
      " |      object attribute list as normal, for these.  Other attributes are\n",
      " |      assumed to be parameters, and passed to the self.set_parameter method\n",
      " |      for validation and assignment.\n",
      " |  \n",
      " |  __str__(self)\n",
      " |      Make the commandline string with the currently set options.\n",
      " |      \n",
      " |      e.g.\n",
      " |      \n",
      " |      >>> from Bio.Emboss.Applications import WaterCommandline\n",
      " |      >>> cline = WaterCommandline(gapopen=10, gapextend=0.5)\n",
      " |      >>> cline.asequence = \"asis:ACCCGGGCGCGGT\"\n",
      " |      >>> cline.bsequence = \"asis:ACCCGAGCGCGGT\"\n",
      " |      >>> cline.outfile = \"temp_water.txt\"\n",
      " |      >>> print(cline)\n",
      " |      water -outfile=temp_water.txt -asequence=asis:ACCCGGGCGCGGT -bsequence=asis:ACCCGAGCGCGGT -gapopen=10 -gapextend=0.5\n",
      " |      >>> str(cline)\n",
      " |      'water -outfile=temp_water.txt -asequence=asis:ACCCGGGCGCGGT -bsequence=asis:ACCCGAGCGCGGT -gapopen=10 -gapextend=0.5'\n",
      " |  \n",
      " |  set_parameter(self, name, value=None)\n",
      " |      Set a commandline option for a program (OBSOLETE).\n",
      " |      \n",
      " |      Every parameter is available via a property and as a named\n",
      " |      keyword when creating the instance. Using either of these is\n",
      " |      preferred to this legacy set_parameter method which is now\n",
      " |      OBSOLETE, and likely to be DEPRECATED and later REMOVED in\n",
      " |      future releases.\n",
      " |  \n",
      " |  ----------------------------------------------------------------------\n",
      " |  Data descriptors inherited from Bio.Application.AbstractCommandline:\n",
      " |  \n",
      " |  __dict__\n",
      " |      dictionary for instance variables (if defined)\n",
      " |  \n",
      " |  __weakref__\n",
      " |      list of weak references to the object (if defined)\n",
      " |  \n",
      " |  ----------------------------------------------------------------------\n",
      " |  Data and other attributes inherited from Bio.Application.AbstractCommandline:\n",
      " |  \n",
      " |  parameters = None\n",
      "\n"
     ]
    }
   ],
   "source": [
    "help(NcbiblastxCommandline)"
   ]
  },
  {
   "cell_type": "code",
   "execution_count": 23,
   "id": "empty-lover",
   "metadata": {},
   "outputs": [
    {
     "name": "stdout",
     "output_type": "stream",
     "text": [
      "USAGE\n",
      "  blastn [-h] [-help] [-import_search_strategy filename]\n",
      "    [-export_search_strategy filename] [-task task_name] [-db database_name]\n",
      "    [-dbsize num_letters] [-gilist filename] [-seqidlist filename]\n",
      "    [-negative_gilist filename] [-negative_seqidlist filename]\n",
      "    [-taxids taxids] [-negative_taxids taxids] [-taxidlist filename]\n",
      "    [-negative_taxidlist filename] [-entrez_query entrez_query]\n",
      "    [-db_soft_mask filtering_algorithm] [-db_hard_mask filtering_algorithm]\n",
      "    [-subject subject_input_file] [-subject_loc range] [-query input_file]\n",
      "    [-out output_file] [-evalue evalue] [-word_size int_value]\n",
      "    [-gapopen open_penalty] [-gapextend extend_penalty]\n",
      "    [-perc_identity float_value] [-qcov_hsp_perc float_value]\n",
      "    [-max_hsps int_value] [-xdrop_ungap float_value] [-xdrop_gap float_value]\n",
      "    [-xdrop_gap_final float_value] [-searchsp int_value]\n",
      "    [-sum_stats bool_value] [-penalty penalty] [-reward reward] [-no_greedy]\n",
      "    [-min_raw_gapped_score int_value] [-template_type type]\n",
      "    [-template_length int_value] [-dust DUST_options]\n",
      "    [-filtering_db filtering_database]\n",
      "    [-window_masker_taxid window_masker_taxid]\n",
      "    [-window_masker_db window_masker_db] [-soft_masking soft_masking]\n",
      "    [-ungapped] [-culling_limit int_value] [-best_hit_overhang float_value]\n",
      "    [-best_hit_score_edge float_value] [-subject_besthit]\n",
      "    [-window_size int_value] [-off_diagonal_range int_value]\n",
      "    [-use_index boolean] [-index_name string] [-lcase_masking]\n",
      "    [-query_loc range] [-strand strand] [-parse_deflines] [-outfmt format]\n",
      "    [-show_gis] [-num_descriptions int_value] [-num_alignments int_value]\n",
      "    [-line_length line_length] [-html] [-sorthits sort_hits]\n",
      "    [-sorthsps sort_hsps] [-max_target_seqs num_sequences]\n",
      "    [-num_threads int_value] [-remote] [-version]\n",
      "\n",
      "DESCRIPTION\n",
      "   Nucleotide-Nucleotide BLAST 2.10.1+\n",
      "\n",
      "Use '-help' to print detailed descriptions of command line arguments\n"
     ]
    }
   ],
   "source": [
    "!blastn -h"
   ]
  },
  {
   "cell_type": "code",
   "execution_count": null,
   "id": "academic-prerequisite",
   "metadata": {},
   "outputs": [],
   "source": [
    "makeblastdb -in mutate_sim.fasta -parse_seqids -dbtype nucl"
   ]
  },
  {
   "cell_type": "code",
   "execution_count": 31,
   "id": "chicken-window",
   "metadata": {},
   "outputs": [],
   "source": [
    "import os\n",
    "import subprocess"
   ]
  },
  {
   "cell_type": "code",
   "execution_count": 24,
   "id": "discrete-advertising",
   "metadata": {},
   "outputs": [],
   "source": [
    "db = \"/mnt/d/Lab/VC_SiLab/data/mutate_sim.fasta\""
   ]
  },
  {
   "cell_type": "code",
   "execution_count": 25,
   "id": "indoor-framework",
   "metadata": {},
   "outputs": [],
   "source": [
    "def RunBlastnParallel(fastaList, db, jobs, threads, OutDir):\n",
    "    pool = Pool(processes=jobs)\n",
    "    pool.starmap(RunBlastn, zip(fastaList, repeat(db), repeat(threads), repeat(OutDir)))\n",
    "    pool.close()\n",
    "    pool.join()\n",
    "    pool.terminate()\n",
    "def RunBlastn(fasta, db, threads, OutDir):\n",
    "    blastDir = os.path.join(OutDir, \"blast\")\n",
    "    if os.path.exists(blastDir) == 0:\n",
    "        os.makedirs(blastDir, 0o777, True)\n",
    "    OutFile = os.path.join(blastDir, os.path.split(fasta)[1].replace(\".fasta\", \"\") + \"_blast.tsv\")\n",
    "    cmd = \"blastn -query \" + fasta  + \" -out \" + OutFile + \" -evalue 1.0 -max_target_seqs 1 -outfmt 6 -db \" + db + \" -num_threads \" + str(threads) \n",
    "    print(cmd)\n",
    "    subprocess.call(cmd, shell=True)"
   ]
  },
  {
   "cell_type": "code",
   "execution_count": 28,
   "id": "bigger-project",
   "metadata": {},
   "outputs": [],
   "source": [
    "fasta = \"/mnt/d/Lab/VC_SiLab/result/A3/fastp/A3_S3_L001.fastq\""
   ]
  },
  {
   "cell_type": "code",
   "execution_count": 29,
   "id": "russian-identifier",
   "metadata": {},
   "outputs": [],
   "source": [
    "OutDir = \"/mnt/d/Lab/VC_SiLab/result/A3\""
   ]
  },
  {
   "cell_type": "code",
   "execution_count": 33,
   "id": "traditional-favorite",
   "metadata": {},
   "outputs": [
    {
     "data": {
      "text/plain": [
       "59212"
      ]
     },
     "execution_count": 33,
     "metadata": {},
     "output_type": "execute_result"
    }
   ],
   "source": [
    "SeqIO.convert(\"/mnt/d/Lab/VC_SiLab/result/A3/fastp/A3_S3_L001.fastq\", \"fastq\", \"/mnt/d/Lab/VC_SiLab/result/A3/fastp/A3_S3_L001.fasta\", \"fasta\")"
   ]
  },
  {
   "cell_type": "code",
   "execution_count": 34,
   "id": "dynamic-portal",
   "metadata": {},
   "outputs": [],
   "source": [
    "fasta = \"/mnt/d/Lab/VC_SiLab/result/A3/fastp/A3_S3_L001.fasta\""
   ]
  },
  {
   "cell_type": "code",
   "execution_count": null,
   "id": "assured-amino",
   "metadata": {},
   "outputs": [
    {
     "name": "stdout",
     "output_type": "stream",
     "text": [
      "blastn -query /mnt/d/Lab/VC_SiLab/result/A3/fastp/A3_S3_L001.fasta -out /mnt/d/Lab/VC_SiLab/result/A3/blast/A3_S3_L001_blast.tsv -evalue 1.0 -max_target_seqs 1 -outfmt 6 -db /mnt/d/Lab/VC_SiLab/data/mutate_sim.fasta -num_threads 8\n"
     ]
    }
   ],
   "source": [
    "RunBlastn(fasta, db, 8, OutDir)"
   ]
  },
  {
   "cell_type": "code",
   "execution_count": null,
   "id": "featured-ballet",
   "metadata": {},
   "outputs": [],
   "source": []
  }
 ],
 "metadata": {
  "kernelspec": {
   "display_name": "Python 3",
   "language": "python",
   "name": "python3"
  },
  "language_info": {
   "codemirror_mode": {
    "name": "ipython",
    "version": 3
   },
   "file_extension": ".py",
   "mimetype": "text/x-python",
   "name": "python",
   "nbconvert_exporter": "python",
   "pygments_lexer": "ipython3",
   "version": "3.8.6"
  }
 },
 "nbformat": 4,
 "nbformat_minor": 5
}
