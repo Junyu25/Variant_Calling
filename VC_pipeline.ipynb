{
 "cells": [
  {
   "cell_type": "code",
   "execution_count": 63,
   "id": "opposite-toner",
   "metadata": {},
   "outputs": [],
   "source": [
    "import os\n",
    "import argparse\n",
    "import subprocess\n",
    "import pandas as pd\n",
    "#from Bio import SeqIO\n",
    "from shutil import copyfile\n",
    "from itertools import repeat\n",
    "from multiprocessing import Pool, freeze_support"
   ]
  },
  {
   "cell_type": "code",
   "execution_count": 64,
   "id": "played-crowd",
   "metadata": {},
   "outputs": [],
   "source": [
    "InDir = \"/mnt/d/Lab/VC_SiLab/data/A3\""
   ]
  },
  {
   "cell_type": "code",
   "execution_count": 65,
   "id": "confident-christianity",
   "metadata": {},
   "outputs": [],
   "source": [
    "r1_end = \"_R1_001.fastq.gz\"\n",
    "r2_end = \"_R2_001.fastq.gz\""
   ]
  },
  {
   "cell_type": "code",
   "execution_count": 66,
   "id": "greenhouse-crystal",
   "metadata": {},
   "outputs": [],
   "source": [
    "def manifestGen(InDir):\n",
    "    path = pd.DataFrame()\n",
    "    for subdir, dirs, files in os.walk(InDir):\n",
    "        R1 = \"\"\n",
    "        R2 = \"\"\n",
    "        for file in files:\n",
    "            if file.endswith(r1_end):\n",
    "                R1 = os.path.join(subdir, file)\n",
    "                R2 = os.path.join(subdir, file[:-len(r1_end)]+r2_end)\n",
    "                sampleStr = file.replace(r1_end, \"\")\n",
    "    path = path.append({'SampleID':str(sampleStr), \"R1\":str(R1), \"R2\":str(R2)}, ignore_index=True)\n",
    "    return path"
   ]
  },
  {
   "cell_type": "code",
   "execution_count": 67,
   "id": "reflected-mainland",
   "metadata": {},
   "outputs": [],
   "source": [
    "path = manifestGen(InDir)"
   ]
  },
  {
   "cell_type": "code",
   "execution_count": 68,
   "id": "emerging-darwin",
   "metadata": {},
   "outputs": [
    {
     "data": {
      "text/html": [
       "<div>\n",
       "<style scoped>\n",
       "    .dataframe tbody tr th:only-of-type {\n",
       "        vertical-align: middle;\n",
       "    }\n",
       "\n",
       "    .dataframe tbody tr th {\n",
       "        vertical-align: top;\n",
       "    }\n",
       "\n",
       "    .dataframe thead th {\n",
       "        text-align: right;\n",
       "    }\n",
       "</style>\n",
       "<table border=\"1\" class=\"dataframe\">\n",
       "  <thead>\n",
       "    <tr style=\"text-align: right;\">\n",
       "      <th></th>\n",
       "      <th>R1</th>\n",
       "      <th>R2</th>\n",
       "      <th>SampleID</th>\n",
       "    </tr>\n",
       "  </thead>\n",
       "  <tbody>\n",
       "    <tr>\n",
       "      <th>0</th>\n",
       "      <td>/mnt/d/Lab/VC_SiLab/data/A3/A3_S3_L001_R1_001....</td>\n",
       "      <td>/mnt/d/Lab/VC_SiLab/data/A3/A3_S3_L001_R2_001....</td>\n",
       "      <td>A3_S3_L001</td>\n",
       "    </tr>\n",
       "  </tbody>\n",
       "</table>\n",
       "</div>"
      ],
      "text/plain": [
       "                                                  R1  \\\n",
       "0  /mnt/d/Lab/VC_SiLab/data/A3/A3_S3_L001_R1_001....   \n",
       "\n",
       "                                                  R2    SampleID  \n",
       "0  /mnt/d/Lab/VC_SiLab/data/A3/A3_S3_L001_R2_001....  A3_S3_L001  "
      ]
     },
     "execution_count": 68,
     "metadata": {},
     "output_type": "execute_result"
    }
   ],
   "source": [
    "path"
   ]
  },
  {
   "cell_type": "code",
   "execution_count": 69,
   "id": "boring-adelaide",
   "metadata": {},
   "outputs": [],
   "source": [
    "df = path"
   ]
  },
  {
   "cell_type": "code",
   "execution_count": 70,
   "id": "premier-classroom",
   "metadata": {},
   "outputs": [],
   "source": [
    "## process manifest\n",
    "#df = pd.read_table(InFile)\n",
    "prefixList = df[\"SampleID\"].tolist()\n",
    "R1List = df[\"R1\"].tolist()\n",
    "R2List = df[\"R2\"].tolist()"
   ]
  },
  {
   "cell_type": "code",
   "execution_count": 71,
   "id": "removed-bones",
   "metadata": {},
   "outputs": [
    {
     "data": {
      "text/plain": [
       "['A3_S3_L001']"
      ]
     },
     "execution_count": 71,
     "metadata": {},
     "output_type": "execute_result"
    }
   ],
   "source": [
    "prefixList"
   ]
  },
  {
   "cell_type": "code",
   "execution_count": 72,
   "id": "fifty-installation",
   "metadata": {},
   "outputs": [
    {
     "data": {
      "text/plain": [
       "['/mnt/d/Lab/VC_SiLab/data/A3/A3_S3_L001_R1_001.fastq.gz']"
      ]
     },
     "execution_count": 72,
     "metadata": {},
     "output_type": "execute_result"
    }
   ],
   "source": [
    "R1List"
   ]
  },
  {
   "cell_type": "code",
   "execution_count": 73,
   "id": "optimum-pharmacology",
   "metadata": {},
   "outputs": [
    {
     "data": {
      "text/plain": [
       "['/mnt/d/Lab/VC_SiLab/data/A3/A3_S3_L001_R2_001.fastq.gz']"
      ]
     },
     "execution_count": 73,
     "metadata": {},
     "output_type": "execute_result"
    }
   ],
   "source": [
    "R2List"
   ]
  },
  {
   "cell_type": "code",
   "execution_count": 14,
   "id": "moved-cover",
   "metadata": {
    "collapsed": true,
    "jupyter": {
     "outputs_hidden": true
    },
    "tags": []
   },
   "outputs": [
    {
     "name": "stdout",
     "output_type": "stream",
     "text": [
      "option needs value: --html\n",
      "usage: fastp [options] ... \n",
      "options:\n",
      "  -i, --in1                            read1 input file name (string [=])\n",
      "  -o, --out1                           read1 output file name (string [=])\n",
      "  -I, --in2                            read2 input file name (string [=])\n",
      "  -O, --out2                           read2 output file name (string [=])\n",
      "      --unpaired1                      for PE input, if read1 passed QC but read2 not, it will be written to unpaired1. Default is to discard it. (string [=])\n",
      "      --unpaired2                      for PE input, if read2 passed QC but read1 not, it will be written to unpaired2. If --unpaired2 is same as --unpaired1 (default mode), both unpaired reads will be written to this same file. (string [=])\n",
      "      --failed_out                     specify the file to store reads that cannot pass the filters. (string [=])\n",
      "  -m, --merge                          for paired-end input, merge each pair of reads into a single read if they are overlapped. The merged reads will be written to the file given by --merged_out, the unmerged reads will be written to the files specified by --out1 and --out2. The merging mode is disabled by default.\n",
      "      --merged_out                     in the merging mode, specify the file name to store merged output, or specify --stdout to stream the merged output (string [=])\n",
      "      --include_unmerged               in the merging mode, write the unmerged or unpaired reads to the file specified by --merge. Disabled by default.\n",
      "  -6, --phred64                        indicate the input is using phred64 scoring (it'll be converted to phred33, so the output will still be phred33)\n",
      "  -z, --compression                    compression level for gzip output (1 ~ 9). 1 is fastest, 9 is smallest, default is 4. (int [=4])\n",
      "      --stdin                          input from STDIN. If the STDIN is interleaved paired-end FASTQ, please also add --interleaved_in.\n",
      "      --stdout                         stream passing-filters reads to STDOUT. This option will result in interleaved FASTQ output for paired-end output. Disabled by default.\n",
      "      --interleaved_in                 indicate that <in1> is an interleaved FASTQ which contains both read1 and read2. Disabled by default.\n",
      "      --reads_to_process               specify how many reads/pairs to be processed. Default 0 means process all reads. (int [=0])\n",
      "      --dont_overwrite                 don't overwrite existing files. Overwritting is allowed by default.\n",
      "      --fix_mgi_id                     the MGI FASTQ ID format is not compatible with many BAM operation tools, enable this option to fix it.\n",
      "  -V, --verbose                        output verbose log information (i.e. when every 1M reads are processed).\n",
      "  -A, --disable_adapter_trimming       adapter trimming is enabled by default. If this option is specified, adapter trimming is disabled\n",
      "  -a, --adapter_sequence               the adapter for read1. For SE data, if not specified, the adapter will be auto-detected. For PE data, this is used if R1/R2 are found not overlapped. (string [=auto])\n",
      "      --adapter_sequence_r2            the adapter for read2 (PE data only). This is used if R1/R2 are found not overlapped. If not specified, it will be the same as <adapter_sequence> (string [=auto])\n",
      "      --adapter_fasta                  specify a FASTA file to trim both read1 and read2 (if PE) by all the sequences in this FASTA file (string [=])\n",
      "      --detect_adapter_for_pe          by default, the auto-detection for adapter is for SE data input only, turn on this option to enable it for PE data.\n",
      "  -f, --trim_front1                    trimming how many bases in front for read1, default is 0 (int [=0])\n",
      "  -t, --trim_tail1                     trimming how many bases in tail for read1, default is 0 (int [=0])\n",
      "  -b, --max_len1                       if read1 is longer than max_len1, then trim read1 at its tail to make it as long as max_len1. Default 0 means no limitation (int [=0])\n",
      "  -F, --trim_front2                    trimming how many bases in front for read2. If it's not specified, it will follow read1's settings (int [=0])\n",
      "  -T, --trim_tail2                     trimming how many bases in tail for read2. If it's not specified, it will follow read1's settings (int [=0])\n",
      "  -B, --max_len2                       if read2 is longer than max_len2, then trim read2 at its tail to make it as long as max_len2. Default 0 means no limitation. If it's not specified, it will follow read1's settings (int [=0])\n",
      "  -g, --trim_poly_g                    force polyG tail trimming, by default trimming is automatically enabled for Illumina NextSeq/NovaSeq data\n",
      "      --poly_g_min_len                 the minimum length to detect polyG in the read tail. 10 by default. (int [=10])\n",
      "  -G, --disable_trim_poly_g            disable polyG tail trimming, by default trimming is automatically enabled for Illumina NextSeq/NovaSeq data\n",
      "  -x, --trim_poly_x                    enable polyX trimming in 3' ends.\n",
      "      --poly_x_min_len                 the minimum length to detect polyX in the read tail. 10 by default. (int [=10])\n",
      "  -5, --cut_front                      move a sliding window from front (5') to tail, drop the bases in the window if its mean quality < threshold, stop otherwise.\n",
      "  -3, --cut_tail                       move a sliding window from tail (3') to front, drop the bases in the window if its mean quality < threshold, stop otherwise.\n",
      "  -r, --cut_right                      move a sliding window from front to tail, if meet one window with mean quality < threshold, drop the bases in the window and the right part, and then stop.\n",
      "  -W, --cut_window_size                the window size option shared by cut_front, cut_tail or cut_sliding. Range: 1~1000, default: 4 (int [=4])\n",
      "  -M, --cut_mean_quality               the mean quality requirement option shared by cut_front, cut_tail or cut_sliding. Range: 1~36 default: 20 (Q20) (int [=20])\n",
      "      --cut_front_window_size          the window size option of cut_front, default to cut_window_size if not specified (int [=4])\n",
      "      --cut_front_mean_quality         the mean quality requirement option for cut_front, default to cut_mean_quality if not specified (int [=20])\n",
      "      --cut_tail_window_size           the window size option of cut_tail, default to cut_window_size if not specified (int [=4])\n",
      "      --cut_tail_mean_quality          the mean quality requirement option for cut_tail, default to cut_mean_quality if not specified (int [=20])\n",
      "      --cut_right_window_size          the window size option of cut_right, default to cut_window_size if not specified (int [=4])\n",
      "      --cut_right_mean_quality         the mean quality requirement option for cut_right, default to cut_mean_quality if not specified (int [=20])\n",
      "  -Q, --disable_quality_filtering      quality filtering is enabled by default. If this option is specified, quality filtering is disabled\n",
      "  -q, --qualified_quality_phred        the quality value that a base is qualified. Default 15 means phred quality >=Q15 is qualified. (int [=15])\n",
      "  -u, --unqualified_percent_limit      how many percents of bases are allowed to be unqualified (0~100). Default 40 means 40% (int [=40])\n",
      "  -n, --n_base_limit                   if one read's number of N base is >n_base_limit, then this read/pair is discarded. Default is 5 (int [=5])\n",
      "  -e, --average_qual                   if one read's average quality score <avg_qual, then this read/pair is discarded. Default 0 means no requirement (int [=0])\n",
      "  -L, --disable_length_filtering       length filtering is enabled by default. If this option is specified, length filtering is disabled\n",
      "  -l, --length_required                reads shorter than length_required will be discarded, default is 15. (int [=15])\n",
      "      --length_limit                   reads longer than length_limit will be discarded, default 0 means no limitation. (int [=0])\n",
      "  -y, --low_complexity_filter          enable low complexity filter. The complexity is defined as the percentage of base that is different from its next base (base[i] != base[i+1]).\n",
      "  -Y, --complexity_threshold           the threshold for low complexity filter (0~100). Default is 30, which means 30% complexity is required. (int [=30])\n",
      "      --filter_by_index1               specify a file contains a list of barcodes of index1 to be filtered out, one barcode per line (string [=])\n",
      "      --filter_by_index2               specify a file contains a list of barcodes of index2 to be filtered out, one barcode per line (string [=])\n",
      "      --filter_by_index_threshold      the allowed difference of index barcode for index filtering, default 0 means completely identical. (int [=0])\n",
      "  -c, --correction                     enable base correction in overlapped regions (only for PE data), default is disabled\n",
      "      --overlap_len_require            the minimum length to detect overlapped region of PE reads. This will affect overlap analysis based PE merge, adapter trimming and correction. 30 by default. (int [=30])\n",
      "      --overlap_diff_limit             the maximum number of mismatched bases to detect overlapped region of PE reads. This will affect overlap analysis based PE merge, adapter trimming and correction. 5 by default. (int [=5])\n",
      "      --overlap_diff_percent_limit     the maximum percentage of mismatched bases to detect overlapped region of PE reads. This will affect overlap analysis based PE merge, adapter trimming and correction. Default 20 means 20%. (int [=20])\n",
      "  -U, --umi                            enable unique molecular identifier (UMI) preprocessing\n",
      "      --umi_loc                        specify the location of UMI, can be (index1/index2/read1/read2/per_index/per_read, default is none (string [=])\n",
      "      --umi_len                        if the UMI is in read1/read2, its length should be provided (int [=0])\n",
      "      --umi_prefix                     if specified, an underline will be used to connect prefix and UMI (i.e. prefix=UMI, UMI=AATTCG, final=UMI_AATTCG). No prefix by default (string [=])\n",
      "      --umi_skip                       if the UMI is in read1/read2, fastp can skip several bases following UMI, default is 0 (int [=0])\n",
      "  -p, --overrepresentation_analysis    enable overrepresented sequence analysis.\n",
      "  -P, --overrepresentation_sampling    one in (--overrepresentation_sampling) reads will be computed for overrepresentation analysis (1~10000), smaller is slower, default is 20. (int [=20])\n",
      "  -j, --json                           the json format report file name (string [=fastp.json])\n",
      "  -h, --html                           the html format report file name (string [=fastp.html])\n",
      "  -R, --report_title                   should be quoted with ' or \", default is \"fastp report\" (string [=fastp report])\n",
      "  -w, --thread                         worker thread number, default is 2 (int [=2])\n",
      "  -s, --split                          split output by limiting total split file number with this option (2~999), a sequential number prefix will be added to output name ( 0001.out.fq, 0002.out.fq...), disabled by default (int [=0])\n",
      "  -S, --split_by_lines                 split output by limiting lines of each file with this option(>=1000), a sequential number prefix will be added to output name ( 0001.out.fq, 0002.out.fq...), disabled by default (long [=0])\n",
      "  -d, --split_prefix_digits            the digits for the sequential number padding (1~10), default is 4, so the filename will be padded as 0001.xxx, 0 to disable padding (int [=4])\n",
      "      --cut_by_quality5                DEPRECATED, use --cut_front instead.\n",
      "      --cut_by_quality3                DEPRECATED, use --cut_tail instead.\n",
      "      --cut_by_quality_aggressive      DEPRECATED, use --cut_right instead.\n",
      "      --discard_unmerged               DEPRECATED, no effect now, see the introduction for merging.\n",
      "  -?, --help                           print this message\n"
     ]
    }
   ],
   "source": [
    "!fastp -h"
   ]
  },
  {
   "cell_type": "markdown",
   "id": "answering-simon",
   "metadata": {},
   "source": [
    "    #\" --adapter_fasta /mnt/d/Lab/VC_SiLab/data/adapter.fasta\" + \\\n",
    "    #\" --cut_tail --cut_window_size 20 --cut_mean_quality 30\" + \\"
   ]
  },
  {
   "cell_type": "markdown",
   "id": "human-wiring",
   "metadata": {},
   "source": [
    "    \" --length_required 300\" + \\"
   ]
  },
  {
   "cell_type": "code",
   "execution_count": 74,
   "id": "dietary-finding",
   "metadata": {},
   "outputs": [],
   "source": [
    "## Fastp pair end tirmming and merging\n",
    "def RunFastp(R1, R2, prefix, OutDir, threads):\n",
    "    cmd = \"fastp --in1 \" + R1 + \" --in2 \" + R2 + \\\n",
    "    \" --out1 \" + os.path.join(OutDir, prefix + \"_R1_unmerged.fastq\") + \\\n",
    "    \" --out2 \" + os.path.join(fastpDir, prefix + \"_R2_unmerged.fastq\") + \\\n",
    "    \" --unpaired1 \" + os.path.join(OutDir, prefix + \"_R1_unpaired.fastq\") + \\\n",
    "    \" --unpaired2 \" + os.path.join(OutDir, prefix + \"_R2_unpaired.fastq\") + \\\n",
    "    \" --thread \" + str(threads) + \\\n",
    "    \" --trim_tail1 100 --trim_tail2 100 \" + \\\n",
    "    \" --merge --merged_out \" + os.path.join(OutDir, prefix + \".fastq\") + \\\n",
    "    \" --correction --overlap_len_require 50\" + \\\n",
    "    \" --html \" + os.path.join(OutDir, prefix + \".html\") + \\\n",
    "    \" --json \" + os.path.join(OutDir, prefix + \".json\") + \\\n",
    "    \" --report_title \" + prefix + \"-fastq-merge-report\"\n",
    "    subprocess.call(cmd, shell=True)\n",
    "    #print(cmd)\n",
    "## Run fastp in parallel\n",
    "def RunFastpParallel(R1List, R2List, prefixList, OutDir, threads, jobs):\n",
    "    pool = Pool(processes = jobs)\n",
    "    pool.starmap(RunFastp, zip(R1List, R2List, prefixList, repeat(OutDir), repeat(threads)))\n",
    "    pool.close()\n",
    "    pool.join()\n",
    "    pool.terminate()"
   ]
  },
  {
   "cell_type": "code",
   "execution_count": 89,
   "id": "raising-philippines",
   "metadata": {},
   "outputs": [],
   "source": [
    "OutDir = \"/mnt/d/Lab/VC_SiLab/result\""
   ]
  },
  {
   "cell_type": "code",
   "execution_count": 13,
   "id": "ranking-fiction",
   "metadata": {},
   "outputs": [],
   "source": [
    "OutDir = \"/mnt/d/Lab/VC_SiLab/result/demo2_merge\""
   ]
  },
  {
   "cell_type": "code",
   "execution_count": 21,
   "id": "liked-moment",
   "metadata": {},
   "outputs": [],
   "source": [
    "OutDir = \"/mnt/d/Lab/VC_SiLab/result/demo3_merge\""
   ]
  },
  {
   "cell_type": "code",
   "execution_count": 75,
   "id": "moderate-mainland",
   "metadata": {},
   "outputs": [],
   "source": [
    "OutDir = \"/mnt/d/Lab/VC_SiLab/result/A3\""
   ]
  },
  {
   "cell_type": "code",
   "execution_count": 76,
   "id": "urban-orchestra",
   "metadata": {},
   "outputs": [],
   "source": [
    "if os.path.exists(OutDir) == 0:\n",
    "    os.makedirs(OutDir, 0o777, True)\n",
    "fastpDir = os.path.join(OutDir, \"fastp\")\n",
    "if os.path.exists(fastpDir) == 0:\n",
    "    os.makedirs(fastpDir, 0o777, True)"
   ]
  },
  {
   "cell_type": "code",
   "execution_count": 61,
   "id": "cognitive-notion",
   "metadata": {},
   "outputs": [],
   "source": [
    "fastpDir = \"/mnt/d/Lab/VC_SiLab/result/fastp_test\""
   ]
  },
  {
   "cell_type": "code",
   "execution_count": 77,
   "id": "figured-norwegian",
   "metadata": {},
   "outputs": [],
   "source": [
    "RunFastpParallel(R1List, R2List, prefixList, fastpDir, 8, 1)"
   ]
  },
  {
   "cell_type": "code",
   "execution_count": null,
   "id": "vital-device",
   "metadata": {},
   "outputs": [],
   "source": [
    "ERROR: trim_tail1 (--trim_tail1) should be 0 ~ 100, suggest 0 ~ 4"
   ]
  },
  {
   "cell_type": "code",
   "execution_count": null,
   "id": "experimental-modification",
   "metadata": {},
   "outputs": [],
   "source": []
  },
  {
   "cell_type": "code",
   "execution_count": null,
   "id": "split-moldova",
   "metadata": {},
   "outputs": [],
   "source": []
  },
  {
   "cell_type": "code",
   "execution_count": 59,
   "id": "fancy-atlanta",
   "metadata": {},
   "outputs": [
    {
     "name": "stdout",
     "output_type": "stream",
     "text": [
      "fastp --in1 /mnt/d/Lab/VC_SiLab/data/A1/A1_S1_L001_R1_001.fastq.gz --in2 /mnt/d/Lab/VC_SiLab/data/A1/A1_S1_L001_R2_001.fastq.gz --out1 /mnt/d/Lab/VC_SiLab/result/A1_S1_L001_R1.fastq --out2 /mnt/d/Lab/VC_SiLab/result/fastp/A1_S1_L001_R2.fastq --thread 8 --cut_tail --cut_window_size 20 --cut_mean_quality 30 --merge --merged_out /mnt/d/Lab/VC_SiLab/result/A1_S1_L001.fastq --correction --overlap_len_require 20 --html /mnt/d/Lab/VC_SiLab/result/A1_S1_L001.html --json /mnt/d/Lab/VC_SiLab/result/A1_S1_L001.json --report_title A1_S1_L001-fastq-merge-report\n"
     ]
    }
   ],
   "source": [
    "RunFastpParallel(R1List, R2List, prefixList, OutDir, 8, 1)"
   ]
  },
  {
   "cell_type": "code",
   "execution_count": 36,
   "id": "intensive-evidence",
   "metadata": {},
   "outputs": [
    {
     "name": "stdout",
     "output_type": "stream",
     "text": [
      "total 37M\n",
      "drwxrwxrwx 1 junyu junyu 4.0K Mar  3 17:25 .\n",
      "drwxrwxrwx 1 junyu junyu 4.0K Mar  3 17:25 ..\n",
      "-rwxrwxrwx 1 junyu junyu 452K Mar  3 17:25 A1_S1_L001.html\n",
      "-rwxrwxrwx 1 junyu junyu 188K Mar  3 17:25 A1_S1_L001.json\n",
      "-rwxrwxrwx 1 junyu junyu  19M Mar  3 17:25 A1_S1_L001_R1.fastq\n",
      "-rwxrwxrwx 1 junyu junyu  19M Mar  3 17:25 A1_S1_L001_R2.fastq\n"
     ]
    }
   ],
   "source": [
    "!ls /mnt/d/Lab/VC_SiLab/result/fastp -alh"
   ]
  },
  {
   "cell_type": "markdown",
   "id": "romantic-television",
   "metadata": {},
   "source": [
    "部分残余接头序列...? 太少了 无需清楚"
   ]
  },
  {
   "cell_type": "markdown",
   "id": "dress-cosmetic",
   "metadata": {},
   "source": [
    "末端质量太低，需要双端merge，自动纠错？"
   ]
  },
  {
   "cell_type": "code",
   "execution_count": null,
   "id": "veterinary-layer",
   "metadata": {},
   "outputs": [],
   "source": []
  },
  {
   "cell_type": "code",
   "execution_count": 37,
   "id": "thrown-structure",
   "metadata": {},
   "outputs": [],
   "source": [
    "from Bio import SeqIO"
   ]
  },
  {
   "cell_type": "code",
   "execution_count": 46,
   "id": "uniform-guidance",
   "metadata": {},
   "outputs": [],
   "source": [
    "from Bio.Seq import Seq"
   ]
  },
  {
   "cell_type": "code",
   "execution_count": 47,
   "id": "floating-columbus",
   "metadata": {},
   "outputs": [],
   "source": [
    "seq = Seq(\"gataccgccccaggacgc\")"
   ]
  },
  {
   "cell_type": "code",
   "execution_count": 48,
   "id": "subtle-container",
   "metadata": {},
   "outputs": [
    {
     "data": {
      "text/plain": [
       "Seq('gcgtcctggggcggtatc')"
      ]
     },
     "execution_count": 48,
     "metadata": {},
     "output_type": "execute_result"
    }
   ],
   "source": [
    "seq.reverse_complement()"
   ]
  },
  {
   "cell_type": "code",
   "execution_count": null,
   "id": "american-produce",
   "metadata": {},
   "outputs": [],
   "source": []
  }
 ],
 "metadata": {
  "kernelspec": {
   "display_name": "Python 3",
   "language": "python",
   "name": "python3"
  },
  "language_info": {
   "codemirror_mode": {
    "name": "ipython",
    "version": 3
   },
   "file_extension": ".py",
   "mimetype": "text/x-python",
   "name": "python",
   "nbconvert_exporter": "python",
   "pygments_lexer": "ipython3",
   "version": "3.8.6"
  }
 },
 "nbformat": 4,
 "nbformat_minor": 5
}
